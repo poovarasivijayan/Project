{
 "cells": [
  {
   "cell_type": "code",
   "execution_count": 186,
   "id": "90a6205a",
   "metadata": {},
   "outputs": [],
   "source": [
    "import pandas as pd\n",
    "import numpy as np\n",
    "\n",
    "import warnings \n",
    "warnings.filterwarnings('ignore')"
   ]
  },
  {
   "cell_type": "code",
   "execution_count": 187,
   "id": "b817c840",
   "metadata": {},
   "outputs": [
    {
     "data": {
      "text/html": [
       "<div>\n",
       "<style scoped>\n",
       "    .dataframe tbody tr th:only-of-type {\n",
       "        vertical-align: middle;\n",
       "    }\n",
       "\n",
       "    .dataframe tbody tr th {\n",
       "        vertical-align: top;\n",
       "    }\n",
       "\n",
       "    .dataframe thead th {\n",
       "        text-align: right;\n",
       "    }\n",
       "</style>\n",
       "<table border=\"1\" class=\"dataframe\">\n",
       "  <thead>\n",
       "    <tr style=\"text-align: right;\">\n",
       "      <th></th>\n",
       "      <th>Country</th>\n",
       "      <th>Region</th>\n",
       "      <th>Happiness Rank</th>\n",
       "      <th>Happiness Score</th>\n",
       "      <th>Standard Error</th>\n",
       "      <th>Economy (GDP per Capita)</th>\n",
       "      <th>Family</th>\n",
       "      <th>Health (Life Expectancy)</th>\n",
       "      <th>Freedom</th>\n",
       "      <th>Trust (Government Corruption)</th>\n",
       "      <th>Generosity</th>\n",
       "      <th>Dystopia Residual</th>\n",
       "    </tr>\n",
       "  </thead>\n",
       "  <tbody>\n",
       "    <tr>\n",
       "      <th>0</th>\n",
       "      <td>Switzerland</td>\n",
       "      <td>Western Europe</td>\n",
       "      <td>1</td>\n",
       "      <td>7.587</td>\n",
       "      <td>0.03411</td>\n",
       "      <td>1.39651</td>\n",
       "      <td>1.34951</td>\n",
       "      <td>0.94143</td>\n",
       "      <td>0.66557</td>\n",
       "      <td>0.41978</td>\n",
       "      <td>0.29678</td>\n",
       "      <td>2.51738</td>\n",
       "    </tr>\n",
       "    <tr>\n",
       "      <th>1</th>\n",
       "      <td>Iceland</td>\n",
       "      <td>Western Europe</td>\n",
       "      <td>2</td>\n",
       "      <td>7.561</td>\n",
       "      <td>0.04884</td>\n",
       "      <td>1.30232</td>\n",
       "      <td>1.40223</td>\n",
       "      <td>0.94784</td>\n",
       "      <td>0.62877</td>\n",
       "      <td>0.14145</td>\n",
       "      <td>0.43630</td>\n",
       "      <td>2.70201</td>\n",
       "    </tr>\n",
       "    <tr>\n",
       "      <th>2</th>\n",
       "      <td>Denmark</td>\n",
       "      <td>Western Europe</td>\n",
       "      <td>3</td>\n",
       "      <td>7.527</td>\n",
       "      <td>0.03328</td>\n",
       "      <td>1.32548</td>\n",
       "      <td>1.36058</td>\n",
       "      <td>0.87464</td>\n",
       "      <td>0.64938</td>\n",
       "      <td>0.48357</td>\n",
       "      <td>0.34139</td>\n",
       "      <td>2.49204</td>\n",
       "    </tr>\n",
       "    <tr>\n",
       "      <th>3</th>\n",
       "      <td>Norway</td>\n",
       "      <td>Western Europe</td>\n",
       "      <td>4</td>\n",
       "      <td>7.522</td>\n",
       "      <td>0.03880</td>\n",
       "      <td>1.45900</td>\n",
       "      <td>1.33095</td>\n",
       "      <td>0.88521</td>\n",
       "      <td>0.66973</td>\n",
       "      <td>0.36503</td>\n",
       "      <td>0.34699</td>\n",
       "      <td>2.46531</td>\n",
       "    </tr>\n",
       "    <tr>\n",
       "      <th>4</th>\n",
       "      <td>Canada</td>\n",
       "      <td>North America</td>\n",
       "      <td>5</td>\n",
       "      <td>7.427</td>\n",
       "      <td>0.03553</td>\n",
       "      <td>1.32629</td>\n",
       "      <td>1.32261</td>\n",
       "      <td>0.90563</td>\n",
       "      <td>0.63297</td>\n",
       "      <td>0.32957</td>\n",
       "      <td>0.45811</td>\n",
       "      <td>2.45176</td>\n",
       "    </tr>\n",
       "    <tr>\n",
       "      <th>...</th>\n",
       "      <td>...</td>\n",
       "      <td>...</td>\n",
       "      <td>...</td>\n",
       "      <td>...</td>\n",
       "      <td>...</td>\n",
       "      <td>...</td>\n",
       "      <td>...</td>\n",
       "      <td>...</td>\n",
       "      <td>...</td>\n",
       "      <td>...</td>\n",
       "      <td>...</td>\n",
       "      <td>...</td>\n",
       "    </tr>\n",
       "    <tr>\n",
       "      <th>153</th>\n",
       "      <td>Rwanda</td>\n",
       "      <td>Sub-Saharan Africa</td>\n",
       "      <td>154</td>\n",
       "      <td>3.465</td>\n",
       "      <td>0.03464</td>\n",
       "      <td>0.22208</td>\n",
       "      <td>0.77370</td>\n",
       "      <td>0.42864</td>\n",
       "      <td>0.59201</td>\n",
       "      <td>0.55191</td>\n",
       "      <td>0.22628</td>\n",
       "      <td>0.67042</td>\n",
       "    </tr>\n",
       "    <tr>\n",
       "      <th>154</th>\n",
       "      <td>Benin</td>\n",
       "      <td>Sub-Saharan Africa</td>\n",
       "      <td>155</td>\n",
       "      <td>3.340</td>\n",
       "      <td>0.03656</td>\n",
       "      <td>0.28665</td>\n",
       "      <td>0.35386</td>\n",
       "      <td>0.31910</td>\n",
       "      <td>0.48450</td>\n",
       "      <td>0.08010</td>\n",
       "      <td>0.18260</td>\n",
       "      <td>1.63328</td>\n",
       "    </tr>\n",
       "    <tr>\n",
       "      <th>155</th>\n",
       "      <td>Syria</td>\n",
       "      <td>Middle East and Northern Africa</td>\n",
       "      <td>156</td>\n",
       "      <td>3.006</td>\n",
       "      <td>0.05015</td>\n",
       "      <td>0.66320</td>\n",
       "      <td>0.47489</td>\n",
       "      <td>0.72193</td>\n",
       "      <td>0.15684</td>\n",
       "      <td>0.18906</td>\n",
       "      <td>0.47179</td>\n",
       "      <td>0.32858</td>\n",
       "    </tr>\n",
       "    <tr>\n",
       "      <th>156</th>\n",
       "      <td>Burundi</td>\n",
       "      <td>Sub-Saharan Africa</td>\n",
       "      <td>157</td>\n",
       "      <td>2.905</td>\n",
       "      <td>0.08658</td>\n",
       "      <td>0.01530</td>\n",
       "      <td>0.41587</td>\n",
       "      <td>0.22396</td>\n",
       "      <td>0.11850</td>\n",
       "      <td>0.10062</td>\n",
       "      <td>0.19727</td>\n",
       "      <td>1.83302</td>\n",
       "    </tr>\n",
       "    <tr>\n",
       "      <th>157</th>\n",
       "      <td>Togo</td>\n",
       "      <td>Sub-Saharan Africa</td>\n",
       "      <td>158</td>\n",
       "      <td>2.839</td>\n",
       "      <td>0.06727</td>\n",
       "      <td>0.20868</td>\n",
       "      <td>0.13995</td>\n",
       "      <td>0.28443</td>\n",
       "      <td>0.36453</td>\n",
       "      <td>0.10731</td>\n",
       "      <td>0.16681</td>\n",
       "      <td>1.56726</td>\n",
       "    </tr>\n",
       "  </tbody>\n",
       "</table>\n",
       "<p>158 rows × 12 columns</p>\n",
       "</div>"
      ],
      "text/plain": [
       "         Country                           Region  Happiness Rank  \\\n",
       "0    Switzerland                   Western Europe               1   \n",
       "1        Iceland                   Western Europe               2   \n",
       "2        Denmark                   Western Europe               3   \n",
       "3         Norway                   Western Europe               4   \n",
       "4         Canada                    North America               5   \n",
       "..           ...                              ...             ...   \n",
       "153       Rwanda               Sub-Saharan Africa             154   \n",
       "154        Benin               Sub-Saharan Africa             155   \n",
       "155        Syria  Middle East and Northern Africa             156   \n",
       "156      Burundi               Sub-Saharan Africa             157   \n",
       "157         Togo               Sub-Saharan Africa             158   \n",
       "\n",
       "     Happiness Score  Standard Error  Economy (GDP per Capita)   Family  \\\n",
       "0              7.587         0.03411                   1.39651  1.34951   \n",
       "1              7.561         0.04884                   1.30232  1.40223   \n",
       "2              7.527         0.03328                   1.32548  1.36058   \n",
       "3              7.522         0.03880                   1.45900  1.33095   \n",
       "4              7.427         0.03553                   1.32629  1.32261   \n",
       "..               ...             ...                       ...      ...   \n",
       "153            3.465         0.03464                   0.22208  0.77370   \n",
       "154            3.340         0.03656                   0.28665  0.35386   \n",
       "155            3.006         0.05015                   0.66320  0.47489   \n",
       "156            2.905         0.08658                   0.01530  0.41587   \n",
       "157            2.839         0.06727                   0.20868  0.13995   \n",
       "\n",
       "     Health (Life Expectancy)  Freedom  Trust (Government Corruption)  \\\n",
       "0                     0.94143  0.66557                        0.41978   \n",
       "1                     0.94784  0.62877                        0.14145   \n",
       "2                     0.87464  0.64938                        0.48357   \n",
       "3                     0.88521  0.66973                        0.36503   \n",
       "4                     0.90563  0.63297                        0.32957   \n",
       "..                        ...      ...                            ...   \n",
       "153                   0.42864  0.59201                        0.55191   \n",
       "154                   0.31910  0.48450                        0.08010   \n",
       "155                   0.72193  0.15684                        0.18906   \n",
       "156                   0.22396  0.11850                        0.10062   \n",
       "157                   0.28443  0.36453                        0.10731   \n",
       "\n",
       "     Generosity  Dystopia Residual  \n",
       "0       0.29678            2.51738  \n",
       "1       0.43630            2.70201  \n",
       "2       0.34139            2.49204  \n",
       "3       0.34699            2.46531  \n",
       "4       0.45811            2.45176  \n",
       "..          ...                ...  \n",
       "153     0.22628            0.67042  \n",
       "154     0.18260            1.63328  \n",
       "155     0.47179            0.32858  \n",
       "156     0.19727            1.83302  \n",
       "157     0.16681            1.56726  \n",
       "\n",
       "[158 rows x 12 columns]"
      ]
     },
     "execution_count": 187,
     "metadata": {},
     "output_type": "execute_result"
    }
   ],
   "source": [
    "df = pd.read_csv('https://raw.githubusercontent.com/dsrscientist/DSData/master/happiness_score_dataset.csv')\n",
    "df"
   ]
  },
  {
   "cell_type": "code",
   "execution_count": 188,
   "id": "9418d5be",
   "metadata": {},
   "outputs": [
    {
     "name": "stdout",
     "output_type": "stream",
     "text": [
      "<class 'pandas.core.frame.DataFrame'>\n",
      "RangeIndex: 158 entries, 0 to 157\n",
      "Data columns (total 12 columns):\n",
      " #   Column                         Non-Null Count  Dtype  \n",
      "---  ------                         --------------  -----  \n",
      " 0   Country                        158 non-null    object \n",
      " 1   Region                         158 non-null    object \n",
      " 2   Happiness Rank                 158 non-null    int64  \n",
      " 3   Happiness Score                158 non-null    float64\n",
      " 4   Standard Error                 158 non-null    float64\n",
      " 5   Economy (GDP per Capita)       158 non-null    float64\n",
      " 6   Family                         158 non-null    float64\n",
      " 7   Health (Life Expectancy)       158 non-null    float64\n",
      " 8   Freedom                        158 non-null    float64\n",
      " 9   Trust (Government Corruption)  158 non-null    float64\n",
      " 10  Generosity                     158 non-null    float64\n",
      " 11  Dystopia Residual              158 non-null    float64\n",
      "dtypes: float64(9), int64(1), object(2)\n",
      "memory usage: 14.9+ KB\n"
     ]
    }
   ],
   "source": [
    "df.info()"
   ]
  },
  {
   "cell_type": "code",
   "execution_count": 189,
   "id": "c4c0a287",
   "metadata": {},
   "outputs": [
    {
     "data": {
      "text/plain": [
       "Country                          0\n",
       "Region                           0\n",
       "Happiness Rank                   0\n",
       "Happiness Score                  0\n",
       "Standard Error                   0\n",
       "Economy (GDP per Capita)         0\n",
       "Family                           0\n",
       "Health (Life Expectancy)         0\n",
       "Freedom                          0\n",
       "Trust (Government Corruption)    0\n",
       "Generosity                       0\n",
       "Dystopia Residual                0\n",
       "dtype: int64"
      ]
     },
     "execution_count": 189,
     "metadata": {},
     "output_type": "execute_result"
    }
   ],
   "source": [
    "df.isnull().sum()"
   ]
  },
  {
   "cell_type": "code",
   "execution_count": 190,
   "id": "eaf78bf0",
   "metadata": {},
   "outputs": [
    {
     "data": {
      "text/html": [
       "<div>\n",
       "<style scoped>\n",
       "    .dataframe tbody tr th:only-of-type {\n",
       "        vertical-align: middle;\n",
       "    }\n",
       "\n",
       "    .dataframe tbody tr th {\n",
       "        vertical-align: top;\n",
       "    }\n",
       "\n",
       "    .dataframe thead th {\n",
       "        text-align: right;\n",
       "    }\n",
       "</style>\n",
       "<table border=\"1\" class=\"dataframe\">\n",
       "  <thead>\n",
       "    <tr style=\"text-align: right;\">\n",
       "      <th></th>\n",
       "      <th>Happiness Rank</th>\n",
       "      <th>Happiness Score</th>\n",
       "      <th>Standard Error</th>\n",
       "      <th>Economy (GDP per Capita)</th>\n",
       "      <th>Family</th>\n",
       "      <th>Health (Life Expectancy)</th>\n",
       "      <th>Freedom</th>\n",
       "      <th>Trust (Government Corruption)</th>\n",
       "      <th>Generosity</th>\n",
       "      <th>Dystopia Residual</th>\n",
       "    </tr>\n",
       "  </thead>\n",
       "  <tbody>\n",
       "    <tr>\n",
       "      <th>count</th>\n",
       "      <td>158.000000</td>\n",
       "      <td>158.000000</td>\n",
       "      <td>158.000000</td>\n",
       "      <td>158.000000</td>\n",
       "      <td>158.000000</td>\n",
       "      <td>158.000000</td>\n",
       "      <td>158.000000</td>\n",
       "      <td>158.000000</td>\n",
       "      <td>158.000000</td>\n",
       "      <td>158.000000</td>\n",
       "    </tr>\n",
       "    <tr>\n",
       "      <th>mean</th>\n",
       "      <td>79.493671</td>\n",
       "      <td>5.375734</td>\n",
       "      <td>0.047885</td>\n",
       "      <td>0.846137</td>\n",
       "      <td>0.991046</td>\n",
       "      <td>0.630259</td>\n",
       "      <td>0.428615</td>\n",
       "      <td>0.143422</td>\n",
       "      <td>0.237296</td>\n",
       "      <td>2.098977</td>\n",
       "    </tr>\n",
       "    <tr>\n",
       "      <th>std</th>\n",
       "      <td>45.754363</td>\n",
       "      <td>1.145010</td>\n",
       "      <td>0.017146</td>\n",
       "      <td>0.403121</td>\n",
       "      <td>0.272369</td>\n",
       "      <td>0.247078</td>\n",
       "      <td>0.150693</td>\n",
       "      <td>0.120034</td>\n",
       "      <td>0.126685</td>\n",
       "      <td>0.553550</td>\n",
       "    </tr>\n",
       "    <tr>\n",
       "      <th>min</th>\n",
       "      <td>1.000000</td>\n",
       "      <td>2.839000</td>\n",
       "      <td>0.018480</td>\n",
       "      <td>0.000000</td>\n",
       "      <td>0.000000</td>\n",
       "      <td>0.000000</td>\n",
       "      <td>0.000000</td>\n",
       "      <td>0.000000</td>\n",
       "      <td>0.000000</td>\n",
       "      <td>0.328580</td>\n",
       "    </tr>\n",
       "    <tr>\n",
       "      <th>25%</th>\n",
       "      <td>40.250000</td>\n",
       "      <td>4.526000</td>\n",
       "      <td>0.037268</td>\n",
       "      <td>0.545808</td>\n",
       "      <td>0.856823</td>\n",
       "      <td>0.439185</td>\n",
       "      <td>0.328330</td>\n",
       "      <td>0.061675</td>\n",
       "      <td>0.150553</td>\n",
       "      <td>1.759410</td>\n",
       "    </tr>\n",
       "    <tr>\n",
       "      <th>50%</th>\n",
       "      <td>79.500000</td>\n",
       "      <td>5.232500</td>\n",
       "      <td>0.043940</td>\n",
       "      <td>0.910245</td>\n",
       "      <td>1.029510</td>\n",
       "      <td>0.696705</td>\n",
       "      <td>0.435515</td>\n",
       "      <td>0.107220</td>\n",
       "      <td>0.216130</td>\n",
       "      <td>2.095415</td>\n",
       "    </tr>\n",
       "    <tr>\n",
       "      <th>75%</th>\n",
       "      <td>118.750000</td>\n",
       "      <td>6.243750</td>\n",
       "      <td>0.052300</td>\n",
       "      <td>1.158448</td>\n",
       "      <td>1.214405</td>\n",
       "      <td>0.811013</td>\n",
       "      <td>0.549092</td>\n",
       "      <td>0.180255</td>\n",
       "      <td>0.309883</td>\n",
       "      <td>2.462415</td>\n",
       "    </tr>\n",
       "    <tr>\n",
       "      <th>max</th>\n",
       "      <td>158.000000</td>\n",
       "      <td>7.587000</td>\n",
       "      <td>0.136930</td>\n",
       "      <td>1.690420</td>\n",
       "      <td>1.402230</td>\n",
       "      <td>1.025250</td>\n",
       "      <td>0.669730</td>\n",
       "      <td>0.551910</td>\n",
       "      <td>0.795880</td>\n",
       "      <td>3.602140</td>\n",
       "    </tr>\n",
       "  </tbody>\n",
       "</table>\n",
       "</div>"
      ],
      "text/plain": [
       "       Happiness Rank  Happiness Score  Standard Error  \\\n",
       "count      158.000000       158.000000      158.000000   \n",
       "mean        79.493671         5.375734        0.047885   \n",
       "std         45.754363         1.145010        0.017146   \n",
       "min          1.000000         2.839000        0.018480   \n",
       "25%         40.250000         4.526000        0.037268   \n",
       "50%         79.500000         5.232500        0.043940   \n",
       "75%        118.750000         6.243750        0.052300   \n",
       "max        158.000000         7.587000        0.136930   \n",
       "\n",
       "       Economy (GDP per Capita)      Family  Health (Life Expectancy)  \\\n",
       "count                158.000000  158.000000                158.000000   \n",
       "mean                   0.846137    0.991046                  0.630259   \n",
       "std                    0.403121    0.272369                  0.247078   \n",
       "min                    0.000000    0.000000                  0.000000   \n",
       "25%                    0.545808    0.856823                  0.439185   \n",
       "50%                    0.910245    1.029510                  0.696705   \n",
       "75%                    1.158448    1.214405                  0.811013   \n",
       "max                    1.690420    1.402230                  1.025250   \n",
       "\n",
       "          Freedom  Trust (Government Corruption)  Generosity  \\\n",
       "count  158.000000                     158.000000  158.000000   \n",
       "mean     0.428615                       0.143422    0.237296   \n",
       "std      0.150693                       0.120034    0.126685   \n",
       "min      0.000000                       0.000000    0.000000   \n",
       "25%      0.328330                       0.061675    0.150553   \n",
       "50%      0.435515                       0.107220    0.216130   \n",
       "75%      0.549092                       0.180255    0.309883   \n",
       "max      0.669730                       0.551910    0.795880   \n",
       "\n",
       "       Dystopia Residual  \n",
       "count         158.000000  \n",
       "mean            2.098977  \n",
       "std             0.553550  \n",
       "min             0.328580  \n",
       "25%             1.759410  \n",
       "50%             2.095415  \n",
       "75%             2.462415  \n",
       "max             3.602140  "
      ]
     },
     "execution_count": 190,
     "metadata": {},
     "output_type": "execute_result"
    }
   ],
   "source": [
    "df.describe()"
   ]
  },
  {
   "cell_type": "markdown",
   "id": "f886d80f",
   "metadata": {},
   "source": [
    "we can see that happiness score varies between 2.83 to 7.58"
   ]
  },
  {
   "cell_type": "markdown",
   "id": "8e3a982b",
   "metadata": {},
   "source": [
    "So the columns needed to make prediction is 'Economy(GDP per Capita)','Family','Health(Life Expectancy)','Freedom','Trust(Government Corruption)','Generosity'.\n",
    "Here 'Standard Error' does not contribute more for prediction so we can drop this column. 'Dystopia Residual' is related to unexplained value for each country so we may think to drop this column."
   ]
  },
  {
   "cell_type": "code",
   "execution_count": 191,
   "id": "3d8a9713",
   "metadata": {},
   "outputs": [],
   "source": [
    "df.drop(['Region','Standard Error','Dystopia Residual'],axis=1,inplace=True)"
   ]
  },
  {
   "cell_type": "code",
   "execution_count": 192,
   "id": "def94cbd",
   "metadata": {},
   "outputs": [
    {
     "data": {
      "text/html": [
       "<div>\n",
       "<style scoped>\n",
       "    .dataframe tbody tr th:only-of-type {\n",
       "        vertical-align: middle;\n",
       "    }\n",
       "\n",
       "    .dataframe tbody tr th {\n",
       "        vertical-align: top;\n",
       "    }\n",
       "\n",
       "    .dataframe thead th {\n",
       "        text-align: right;\n",
       "    }\n",
       "</style>\n",
       "<table border=\"1\" class=\"dataframe\">\n",
       "  <thead>\n",
       "    <tr style=\"text-align: right;\">\n",
       "      <th></th>\n",
       "      <th>Country</th>\n",
       "      <th>Happiness Rank</th>\n",
       "      <th>Happiness Score</th>\n",
       "      <th>Economy (GDP per Capita)</th>\n",
       "      <th>Family</th>\n",
       "      <th>Health (Life Expectancy)</th>\n",
       "      <th>Freedom</th>\n",
       "      <th>Trust (Government Corruption)</th>\n",
       "      <th>Generosity</th>\n",
       "    </tr>\n",
       "  </thead>\n",
       "  <tbody>\n",
       "    <tr>\n",
       "      <th>0</th>\n",
       "      <td>Switzerland</td>\n",
       "      <td>1</td>\n",
       "      <td>7.587</td>\n",
       "      <td>1.39651</td>\n",
       "      <td>1.34951</td>\n",
       "      <td>0.94143</td>\n",
       "      <td>0.66557</td>\n",
       "      <td>0.41978</td>\n",
       "      <td>0.29678</td>\n",
       "    </tr>\n",
       "    <tr>\n",
       "      <th>1</th>\n",
       "      <td>Iceland</td>\n",
       "      <td>2</td>\n",
       "      <td>7.561</td>\n",
       "      <td>1.30232</td>\n",
       "      <td>1.40223</td>\n",
       "      <td>0.94784</td>\n",
       "      <td>0.62877</td>\n",
       "      <td>0.14145</td>\n",
       "      <td>0.43630</td>\n",
       "    </tr>\n",
       "    <tr>\n",
       "      <th>2</th>\n",
       "      <td>Denmark</td>\n",
       "      <td>3</td>\n",
       "      <td>7.527</td>\n",
       "      <td>1.32548</td>\n",
       "      <td>1.36058</td>\n",
       "      <td>0.87464</td>\n",
       "      <td>0.64938</td>\n",
       "      <td>0.48357</td>\n",
       "      <td>0.34139</td>\n",
       "    </tr>\n",
       "    <tr>\n",
       "      <th>3</th>\n",
       "      <td>Norway</td>\n",
       "      <td>4</td>\n",
       "      <td>7.522</td>\n",
       "      <td>1.45900</td>\n",
       "      <td>1.33095</td>\n",
       "      <td>0.88521</td>\n",
       "      <td>0.66973</td>\n",
       "      <td>0.36503</td>\n",
       "      <td>0.34699</td>\n",
       "    </tr>\n",
       "    <tr>\n",
       "      <th>4</th>\n",
       "      <td>Canada</td>\n",
       "      <td>5</td>\n",
       "      <td>7.427</td>\n",
       "      <td>1.32629</td>\n",
       "      <td>1.32261</td>\n",
       "      <td>0.90563</td>\n",
       "      <td>0.63297</td>\n",
       "      <td>0.32957</td>\n",
       "      <td>0.45811</td>\n",
       "    </tr>\n",
       "  </tbody>\n",
       "</table>\n",
       "</div>"
      ],
      "text/plain": [
       "       Country  Happiness Rank  Happiness Score  Economy (GDP per Capita)  \\\n",
       "0  Switzerland               1            7.587                   1.39651   \n",
       "1      Iceland               2            7.561                   1.30232   \n",
       "2      Denmark               3            7.527                   1.32548   \n",
       "3       Norway               4            7.522                   1.45900   \n",
       "4       Canada               5            7.427                   1.32629   \n",
       "\n",
       "    Family  Health (Life Expectancy)  Freedom  Trust (Government Corruption)  \\\n",
       "0  1.34951                   0.94143  0.66557                        0.41978   \n",
       "1  1.40223                   0.94784  0.62877                        0.14145   \n",
       "2  1.36058                   0.87464  0.64938                        0.48357   \n",
       "3  1.33095                   0.88521  0.66973                        0.36503   \n",
       "4  1.32261                   0.90563  0.63297                        0.32957   \n",
       "\n",
       "   Generosity  \n",
       "0     0.29678  \n",
       "1     0.43630  \n",
       "2     0.34139  \n",
       "3     0.34699  \n",
       "4     0.45811  "
      ]
     },
     "execution_count": 192,
     "metadata": {},
     "output_type": "execute_result"
    }
   ],
   "source": [
    "df.head(5)"
   ]
  },
  {
   "cell_type": "markdown",
   "id": "10d93aca",
   "metadata": {},
   "source": [
    "# Correlation"
   ]
  },
  {
   "cell_type": "code",
   "execution_count": 193,
   "id": "2b00fc5b",
   "metadata": {},
   "outputs": [
    {
     "data": {
      "text/html": [
       "<div>\n",
       "<style scoped>\n",
       "    .dataframe tbody tr th:only-of-type {\n",
       "        vertical-align: middle;\n",
       "    }\n",
       "\n",
       "    .dataframe tbody tr th {\n",
       "        vertical-align: top;\n",
       "    }\n",
       "\n",
       "    .dataframe thead th {\n",
       "        text-align: right;\n",
       "    }\n",
       "</style>\n",
       "<table border=\"1\" class=\"dataframe\">\n",
       "  <thead>\n",
       "    <tr style=\"text-align: right;\">\n",
       "      <th></th>\n",
       "      <th>Happiness Rank</th>\n",
       "      <th>Happiness Score</th>\n",
       "      <th>Economy (GDP per Capita)</th>\n",
       "      <th>Family</th>\n",
       "      <th>Health (Life Expectancy)</th>\n",
       "      <th>Freedom</th>\n",
       "      <th>Trust (Government Corruption)</th>\n",
       "      <th>Generosity</th>\n",
       "    </tr>\n",
       "  </thead>\n",
       "  <tbody>\n",
       "    <tr>\n",
       "      <th>Happiness Rank</th>\n",
       "      <td>1.000000</td>\n",
       "      <td>-0.992105</td>\n",
       "      <td>-0.785267</td>\n",
       "      <td>-0.733644</td>\n",
       "      <td>-0.735613</td>\n",
       "      <td>-0.556886</td>\n",
       "      <td>-0.372315</td>\n",
       "      <td>-0.160142</td>\n",
       "    </tr>\n",
       "    <tr>\n",
       "      <th>Happiness Score</th>\n",
       "      <td>-0.992105</td>\n",
       "      <td>1.000000</td>\n",
       "      <td>0.780966</td>\n",
       "      <td>0.740605</td>\n",
       "      <td>0.724200</td>\n",
       "      <td>0.568211</td>\n",
       "      <td>0.395199</td>\n",
       "      <td>0.180319</td>\n",
       "    </tr>\n",
       "    <tr>\n",
       "      <th>Economy (GDP per Capita)</th>\n",
       "      <td>-0.785267</td>\n",
       "      <td>0.780966</td>\n",
       "      <td>1.000000</td>\n",
       "      <td>0.645299</td>\n",
       "      <td>0.816478</td>\n",
       "      <td>0.370300</td>\n",
       "      <td>0.307885</td>\n",
       "      <td>-0.010465</td>\n",
       "    </tr>\n",
       "    <tr>\n",
       "      <th>Family</th>\n",
       "      <td>-0.733644</td>\n",
       "      <td>0.740605</td>\n",
       "      <td>0.645299</td>\n",
       "      <td>1.000000</td>\n",
       "      <td>0.531104</td>\n",
       "      <td>0.441518</td>\n",
       "      <td>0.205605</td>\n",
       "      <td>0.087513</td>\n",
       "    </tr>\n",
       "    <tr>\n",
       "      <th>Health (Life Expectancy)</th>\n",
       "      <td>-0.735613</td>\n",
       "      <td>0.724200</td>\n",
       "      <td>0.816478</td>\n",
       "      <td>0.531104</td>\n",
       "      <td>1.000000</td>\n",
       "      <td>0.360477</td>\n",
       "      <td>0.248335</td>\n",
       "      <td>0.108335</td>\n",
       "    </tr>\n",
       "    <tr>\n",
       "      <th>Freedom</th>\n",
       "      <td>-0.556886</td>\n",
       "      <td>0.568211</td>\n",
       "      <td>0.370300</td>\n",
       "      <td>0.441518</td>\n",
       "      <td>0.360477</td>\n",
       "      <td>1.000000</td>\n",
       "      <td>0.493524</td>\n",
       "      <td>0.373916</td>\n",
       "    </tr>\n",
       "    <tr>\n",
       "      <th>Trust (Government Corruption)</th>\n",
       "      <td>-0.372315</td>\n",
       "      <td>0.395199</td>\n",
       "      <td>0.307885</td>\n",
       "      <td>0.205605</td>\n",
       "      <td>0.248335</td>\n",
       "      <td>0.493524</td>\n",
       "      <td>1.000000</td>\n",
       "      <td>0.276123</td>\n",
       "    </tr>\n",
       "    <tr>\n",
       "      <th>Generosity</th>\n",
       "      <td>-0.160142</td>\n",
       "      <td>0.180319</td>\n",
       "      <td>-0.010465</td>\n",
       "      <td>0.087513</td>\n",
       "      <td>0.108335</td>\n",
       "      <td>0.373916</td>\n",
       "      <td>0.276123</td>\n",
       "      <td>1.000000</td>\n",
       "    </tr>\n",
       "  </tbody>\n",
       "</table>\n",
       "</div>"
      ],
      "text/plain": [
       "                               Happiness Rank  Happiness Score  \\\n",
       "Happiness Rank                       1.000000        -0.992105   \n",
       "Happiness Score                     -0.992105         1.000000   \n",
       "Economy (GDP per Capita)            -0.785267         0.780966   \n",
       "Family                              -0.733644         0.740605   \n",
       "Health (Life Expectancy)            -0.735613         0.724200   \n",
       "Freedom                             -0.556886         0.568211   \n",
       "Trust (Government Corruption)       -0.372315         0.395199   \n",
       "Generosity                          -0.160142         0.180319   \n",
       "\n",
       "                               Economy (GDP per Capita)    Family  \\\n",
       "Happiness Rank                                -0.785267 -0.733644   \n",
       "Happiness Score                                0.780966  0.740605   \n",
       "Economy (GDP per Capita)                       1.000000  0.645299   \n",
       "Family                                         0.645299  1.000000   \n",
       "Health (Life Expectancy)                       0.816478  0.531104   \n",
       "Freedom                                        0.370300  0.441518   \n",
       "Trust (Government Corruption)                  0.307885  0.205605   \n",
       "Generosity                                    -0.010465  0.087513   \n",
       "\n",
       "                               Health (Life Expectancy)   Freedom  \\\n",
       "Happiness Rank                                -0.735613 -0.556886   \n",
       "Happiness Score                                0.724200  0.568211   \n",
       "Economy (GDP per Capita)                       0.816478  0.370300   \n",
       "Family                                         0.531104  0.441518   \n",
       "Health (Life Expectancy)                       1.000000  0.360477   \n",
       "Freedom                                        0.360477  1.000000   \n",
       "Trust (Government Corruption)                  0.248335  0.493524   \n",
       "Generosity                                     0.108335  0.373916   \n",
       "\n",
       "                               Trust (Government Corruption)  Generosity  \n",
       "Happiness Rank                                     -0.372315   -0.160142  \n",
       "Happiness Score                                     0.395199    0.180319  \n",
       "Economy (GDP per Capita)                            0.307885   -0.010465  \n",
       "Family                                              0.205605    0.087513  \n",
       "Health (Life Expectancy)                            0.248335    0.108335  \n",
       "Freedom                                             0.493524    0.373916  \n",
       "Trust (Government Corruption)                       1.000000    0.276123  \n",
       "Generosity                                          0.276123    1.000000  "
      ]
     },
     "execution_count": 193,
     "metadata": {},
     "output_type": "execute_result"
    }
   ],
   "source": [
    "df.corr()"
   ]
  },
  {
   "cell_type": "code",
   "execution_count": 194,
   "id": "a77678ef",
   "metadata": {},
   "outputs": [
    {
     "data": {
      "text/plain": [
       "<AxesSubplot:>"
      ]
     },
     "execution_count": 194,
     "metadata": {},
     "output_type": "execute_result"
    },
    {
     "data": {
      "image/png": "[encoded data removed]",
      "text/plain": [
       "<Figure size 504x504 with 2 Axes>"
      ]
     },
     "metadata": {
      "needs_background": "light"
     },
     "output_type": "display_data"
    }
   ],
   "source": [
    "#visualization\n",
    "import matplotlib.pyplot as plt\n",
    "import seaborn as sns\n",
    "plt.figure(figsize=(7,7))\n",
    "sns.heatmap(df.corr(),annot=True)"
   ]
  },
  {
   "cell_type": "markdown",
   "id": "1d27b0fd",
   "metadata": {},
   "source": [
    "Outcome of EDA:\n",
    "1.Economy(GDP per capita) has 78 correlation with target colum which is very good bond\n",
    "2.Family has 74 correlation with target column which is very good bond\n",
    "3.Health(Life Expectancy) has 72 with target column which is very good bond\n",
    "4.Freedom has 57 with target column which is good bond\n",
    "5.Trust(Government Corruption) has 40 with target column which is good bond\n",
    "6.Generosity has 18 correlation is also doing well with target column"
   ]
  },
  {
   "cell_type": "markdown",
   "id": "7d15857d",
   "metadata": {},
   "source": [
    "In this also we can drop 'Country' and 'Happiness Rank' column as it has nothing to do with happiness score.\n",
    "As 'Happiness Score' is our target column we can make it assign to variable y"
   ]
  },
  {
   "cell_type": "code",
   "execution_count": 195,
   "id": "dd8b4b8d",
   "metadata": {},
   "outputs": [],
   "source": [
    "df.drop(['Country','Happiness Rank'],axis=1,inplace=True)"
   ]
  },
  {
   "cell_type": "code",
   "execution_count": 196,
   "id": "fc0da740",
   "metadata": {},
   "outputs": [
    {
     "data": {
      "text/html": [
       "<div>\n",
       "<style scoped>\n",
       "    .dataframe tbody tr th:only-of-type {\n",
       "        vertical-align: middle;\n",
       "    }\n",
       "\n",
       "    .dataframe tbody tr th {\n",
       "        vertical-align: top;\n",
       "    }\n",
       "\n",
       "    .dataframe thead th {\n",
       "        text-align: right;\n",
       "    }\n",
       "</style>\n",
       "<table border=\"1\" class=\"dataframe\">\n",
       "  <thead>\n",
       "    <tr style=\"text-align: right;\">\n",
       "      <th></th>\n",
       "      <th>Happiness Score</th>\n",
       "      <th>Economy (GDP per Capita)</th>\n",
       "      <th>Family</th>\n",
       "      <th>Health (Life Expectancy)</th>\n",
       "      <th>Freedom</th>\n",
       "      <th>Trust (Government Corruption)</th>\n",
       "      <th>Generosity</th>\n",
       "    </tr>\n",
       "  </thead>\n",
       "  <tbody>\n",
       "    <tr>\n",
       "      <th>0</th>\n",
       "      <td>7.587</td>\n",
       "      <td>1.39651</td>\n",
       "      <td>1.34951</td>\n",
       "      <td>0.94143</td>\n",
       "      <td>0.66557</td>\n",
       "      <td>0.41978</td>\n",
       "      <td>0.29678</td>\n",
       "    </tr>\n",
       "    <tr>\n",
       "      <th>1</th>\n",
       "      <td>7.561</td>\n",
       "      <td>1.30232</td>\n",
       "      <td>1.40223</td>\n",
       "      <td>0.94784</td>\n",
       "      <td>0.62877</td>\n",
       "      <td>0.14145</td>\n",
       "      <td>0.43630</td>\n",
       "    </tr>\n",
       "    <tr>\n",
       "      <th>2</th>\n",
       "      <td>7.527</td>\n",
       "      <td>1.32548</td>\n",
       "      <td>1.36058</td>\n",
       "      <td>0.87464</td>\n",
       "      <td>0.64938</td>\n",
       "      <td>0.48357</td>\n",
       "      <td>0.34139</td>\n",
       "    </tr>\n",
       "    <tr>\n",
       "      <th>3</th>\n",
       "      <td>7.522</td>\n",
       "      <td>1.45900</td>\n",
       "      <td>1.33095</td>\n",
       "      <td>0.88521</td>\n",
       "      <td>0.66973</td>\n",
       "      <td>0.36503</td>\n",
       "      <td>0.34699</td>\n",
       "    </tr>\n",
       "    <tr>\n",
       "      <th>4</th>\n",
       "      <td>7.427</td>\n",
       "      <td>1.32629</td>\n",
       "      <td>1.32261</td>\n",
       "      <td>0.90563</td>\n",
       "      <td>0.63297</td>\n",
       "      <td>0.32957</td>\n",
       "      <td>0.45811</td>\n",
       "    </tr>\n",
       "  </tbody>\n",
       "</table>\n",
       "</div>"
      ],
      "text/plain": [
       "   Happiness Score  Economy (GDP per Capita)   Family  \\\n",
       "0            7.587                   1.39651  1.34951   \n",
       "1            7.561                   1.30232  1.40223   \n",
       "2            7.527                   1.32548  1.36058   \n",
       "3            7.522                   1.45900  1.33095   \n",
       "4            7.427                   1.32629  1.32261   \n",
       "\n",
       "   Health (Life Expectancy)  Freedom  Trust (Government Corruption)  \\\n",
       "0                   0.94143  0.66557                        0.41978   \n",
       "1                   0.94784  0.62877                        0.14145   \n",
       "2                   0.87464  0.64938                        0.48357   \n",
       "3                   0.88521  0.66973                        0.36503   \n",
       "4                   0.90563  0.63297                        0.32957   \n",
       "\n",
       "   Generosity  \n",
       "0     0.29678  \n",
       "1     0.43630  \n",
       "2     0.34139  \n",
       "3     0.34699  \n",
       "4     0.45811  "
      ]
     },
     "execution_count": 196,
     "metadata": {},
     "output_type": "execute_result"
    }
   ],
   "source": [
    "df.head(5)"
   ]
  },
  {
   "cell_type": "code",
   "execution_count": 202,
   "id": "6d30772c",
   "metadata": {},
   "outputs": [],
   "source": [
    "x = df.iloc[:,1:]"
   ]
  },
  {
   "cell_type": "code",
   "execution_count": 200,
   "id": "eb60a044",
   "metadata": {},
   "outputs": [],
   "source": [
    "y = df.iloc[:,0]"
   ]
  },
  {
   "cell_type": "code",
   "execution_count": 248,
   "id": "e0480e69",
   "metadata": {},
   "outputs": [
    {
     "data": {
      "text/plain": [
       "<AxesSubplot:xlabel='Happiness Score', ylabel='Economy (GDP per Capita)'>"
      ]
     },
     "execution_count": 248,
     "metadata": {},
     "output_type": "execute_result"
    },
    {
     "data": {
      "image/png": "[encoded data removed]",
      "text/plain": [
       "<Figure size 432x288 with 1 Axes>"
      ]
     },
     "metadata": {
      "needs_background": "light"
     },
     "output_type": "display_data"
    }
   ],
   "source": [
    "sns.scatterplot(x='Happiness Score',y='Economy (GDP per Capita)',data=df)"
   ]
  },
  {
   "cell_type": "code",
   "execution_count": 249,
   "id": "2e23a852",
   "metadata": {},
   "outputs": [
    {
     "data": {
      "text/plain": [
       "<AxesSubplot:xlabel='Happiness Score', ylabel='Family'>"
      ]
     },
     "execution_count": 249,
     "metadata": {},
     "output_type": "execute_result"
    },
    {
     "data": {
      "image/png": "[encoded data removed]",
      "text/plain": [
       "<Figure size 432x288 with 1 Axes>"
      ]
     },
     "metadata": {
      "needs_background": "light"
     },
     "output_type": "display_data"
    }
   ],
   "source": [
    "sns.scatterplot(x='Happiness Score',y='Family',data=df)"
   ]
  },
  {
   "cell_type": "code",
   "execution_count": 250,
   "id": "f728e7ce",
   "metadata": {},
   "outputs": [
    {
     "data": {
      "text/plain": [
       "<AxesSubplot:xlabel='Happiness Score', ylabel='Health (Life Expectancy)'>"
      ]
     },
     "execution_count": 250,
     "metadata": {},
     "output_type": "execute_result"
    },
    {
     "data": {
      "image/png": "[encoded data removed]",
      "text/plain": [
       "<Figure size 432x288 with 1 Axes>"
      ]
     },
     "metadata": {
      "needs_background": "light"
     },
     "output_type": "display_data"
    }
   ],
   "source": [
    "sns.scatterplot(x='Happiness Score',y='Health (Life Expectancy)',data=df)"
   ]
  },
  {
   "cell_type": "code",
   "execution_count": 251,
   "id": "3ce9a64a",
   "metadata": {},
   "outputs": [
    {
     "data": {
      "text/plain": [
       "<AxesSubplot:xlabel='Happiness Score', ylabel='Trust (Government Corruption)'>"
      ]
     },
     "execution_count": 251,
     "metadata": {},
     "output_type": "execute_result"
    },
    {
     "data": {
      "image/png": "[encoded data removed]",
      "text/plain": [
       "<Figure size 432x288 with 1 Axes>"
      ]
     },
     "metadata": {
      "needs_background": "light"
     },
     "output_type": "display_data"
    }
   ],
   "source": [
    "sns.scatterplot(x='Happiness Score',y='Trust (Government Corruption)',data=df)"
   ]
  },
  {
   "cell_type": "code",
   "execution_count": 252,
   "id": "68684490",
   "metadata": {},
   "outputs": [
    {
     "data": {
      "text/plain": [
       "<AxesSubplot:xlabel='Happiness Score', ylabel='Freedom'>"
      ]
     },
     "execution_count": 252,
     "metadata": {},
     "output_type": "execute_result"
    },
    {
     "data": {
      "image/png": "[encoded data removed]",
      "text/plain": [
       "<Figure size 432x288 with 1 Axes>"
      ]
     },
     "metadata": {
      "needs_background": "light"
     },
     "output_type": "display_data"
    }
   ],
   "source": [
    "sns.scatterplot(x='Happiness Score',y='Freedom',data=df)"
   ]
  },
  {
   "cell_type": "code",
   "execution_count": 253,
   "id": "5d912962",
   "metadata": {},
   "outputs": [
    {
     "data": {
      "text/plain": [
       "<AxesSubplot:xlabel='Happiness Score', ylabel='Generosity'>"
      ]
     },
     "execution_count": 253,
     "metadata": {},
     "output_type": "execute_result"
    },
    {
     "data": {
      "image/png": "[encoded data removed]",
      "text/plain": [
       "<Figure size 432x288 with 1 Axes>"
      ]
     },
     "metadata": {
      "needs_background": "light"
     },
     "output_type": "display_data"
    }
   ],
   "source": [
    "sns.scatterplot(x='Happiness Score',y='Generosity',data=df)"
   ]
  },
  {
   "cell_type": "markdown",
   "id": "520b395f",
   "metadata": {},
   "source": [
    "By scatter plot we can conclude that Happiness Score is directly proportional to 'Health (Life Expectancy)','Economy (GDP per capita)','Family','Freedom' and are highly correlated with happiness score. 'Trust' and 'Generosity' is also having good correlation with Happiness Score."
   ]
  },
  {
   "cell_type": "markdown",
   "id": "ff41cc03",
   "metadata": {},
   "source": [
    "# Outliers Checking:"
   ]
  },
  {
   "cell_type": "code",
   "execution_count": 209,
   "id": "8a68a571",
   "metadata": {},
   "outputs": [
    {
     "data": {
      "text/plain": [
       "Happiness Score                     AxesSubplot(0.125,0.536818;0.168478x0.343182)\n",
       "Economy (GDP per Capita)         AxesSubplot(0.327174,0.536818;0.168478x0.343182)\n",
       "Family                           AxesSubplot(0.529348,0.536818;0.168478x0.343182)\n",
       "Health (Life Expectancy)         AxesSubplot(0.731522,0.536818;0.168478x0.343182)\n",
       "Freedom                                AxesSubplot(0.125,0.125;0.168478x0.343182)\n",
       "Trust (Government Corruption)       AxesSubplot(0.327174,0.125;0.168478x0.343182)\n",
       "Generosity                          AxesSubplot(0.529348,0.125;0.168478x0.343182)\n",
       "dtype: object"
      ]
     },
     "execution_count": 209,
     "metadata": {},
     "output_type": "execute_result"
    },
    {
     "data": {
      "image/png": "[encoded data removed]",
      "text/plain": [
       "<Figure size 432x288 with 8 Axes>"
      ]
     },
     "metadata": {
      "needs_background": "light"
     },
     "output_type": "display_data"
    }
   ],
   "source": [
    "df.plot(kind='box',subplots=True,layout=(2,4))"
   ]
  },
  {
   "cell_type": "markdown",
   "id": "c8517e22",
   "metadata": {},
   "source": [
    "By this we can visualize that outliers may be present in 'Family' and 'Trust(Government Corruption)' column"
   ]
  },
  {
   "cell_type": "code",
   "execution_count": 210,
   "id": "8ba6d019",
   "metadata": {},
   "outputs": [
    {
     "data": {
      "text/plain": [
       "Happiness Score                  0.097769\n",
       "Economy (GDP per Capita)        -0.317575\n",
       "Family                          -1.006893\n",
       "Health (Life Expectancy)        -0.705328\n",
       "Freedom                         -0.413462\n",
       "Trust (Government Corruption)    1.385463\n",
       "Generosity                       1.001961\n",
       "dtype: float64"
      ]
     },
     "execution_count": 210,
     "metadata": {},
     "output_type": "execute_result"
    }
   ],
   "source": [
    "df.skew()"
   ]
  },
  {
   "cell_type": "markdown",
   "id": "6ef067b9",
   "metadata": {},
   "source": [
    "outcome of skewness: Skewness threshold is taken +/- 0.65.\n",
    "Columns which have skewness are:\n",
    "\n",
    "Family\n",
    "Health(Life Expectancy)\n",
    "Trust(Government Corruption)\n",
    "Generosity"
   ]
  },
  {
   "cell_type": "markdown",
   "id": "ed1222c0",
   "metadata": {},
   "source": [
    "# Normal Distribution Curve:"
   ]
  },
  {
   "cell_type": "code",
   "execution_count": 211,
   "id": "b3acde69",
   "metadata": {},
   "outputs": [
    {
     "data": {
      "text/plain": [
       "<AxesSubplot:xlabel='Economy (GDP per Capita)', ylabel='Density'>"
      ]
     },
     "execution_count": 211,
     "metadata": {},
     "output_type": "execute_result"
    },
    {
     "data": {
      "image/png": "[encoded data removed]",
      "text/plain": [
       "<Figure size 432x288 with 1 Axes>"
      ]
     },
     "metadata": {
      "needs_background": "light"
     },
     "output_type": "display_data"
    }
   ],
   "source": [
    "sns.distplot(df['Economy (GDP per Capita)'])"
   ]
  },
  {
   "cell_type": "code",
   "execution_count": 212,
   "id": "05f71929",
   "metadata": {},
   "outputs": [
    {
     "data": {
      "text/plain": [
       "<AxesSubplot:xlabel='Family', ylabel='Density'>"
      ]
     },
     "execution_count": 212,
     "metadata": {},
     "output_type": "execute_result"
    },
    {
     "data": {
      "image/png": "[encoded data removed]",
      "text/plain": [
       "<Figure size 432x288 with 1 Axes>"
      ]
     },
     "metadata": {
      "needs_background": "light"
     },
     "output_type": "display_data"
    }
   ],
   "source": [
    "sns.distplot(df['Family'])"
   ]
  },
  {
   "cell_type": "code",
   "execution_count": 213,
   "id": "5ce33878",
   "metadata": {},
   "outputs": [
    {
     "data": {
      "text/plain": [
       "<AxesSubplot:xlabel='Health (Life Expectancy)', ylabel='Density'>"
      ]
     },
     "execution_count": 213,
     "metadata": {},
     "output_type": "execute_result"
    },
    {
     "data": {
      "image/png": "[encoded data removed]",
      "text/plain": [
       "<Figure size 432x288 with 1 Axes>"
      ]
     },
     "metadata": {
      "needs_background": "light"
     },
     "output_type": "display_data"
    }
   ],
   "source": [
    "sns.distplot(df['Health (Life Expectancy)'])"
   ]
  },
  {
   "cell_type": "code",
   "execution_count": 214,
   "id": "acec1729",
   "metadata": {},
   "outputs": [
    {
     "data": {
      "text/plain": [
       "<AxesSubplot:xlabel='Freedom', ylabel='Density'>"
      ]
     },
     "execution_count": 214,
     "metadata": {},
     "output_type": "execute_result"
    },
    {
     "data": {
      "image/png": "[encoded data removed]",
      "text/plain": [
       "<Figure size 432x288 with 1 Axes>"
      ]
     },
     "metadata": {
      "needs_background": "light"
     },
     "output_type": "display_data"
    }
   ],
   "source": [
    "sns.distplot(df['Freedom'])"
   ]
  },
  {
   "cell_type": "code",
   "execution_count": 216,
   "id": "81082f65",
   "metadata": {},
   "outputs": [
    {
     "data": {
      "text/plain": [
       "<AxesSubplot:xlabel='Trust (Government Corruption)', ylabel='Density'>"
      ]
     },
     "execution_count": 216,
     "metadata": {},
     "output_type": "execute_result"
    },
    {
     "data": {
      "image/png": "[encoded data removed]",
      "text/plain": [
       "<Figure size 432x288 with 1 Axes>"
      ]
     },
     "metadata": {
      "needs_background": "light"
     },
     "output_type": "display_data"
    }
   ],
   "source": [
    "sns.distplot(df['Trust (Government Corruption)'])"
   ]
  },
  {
   "cell_type": "code",
   "execution_count": 217,
   "id": "effdd405",
   "metadata": {},
   "outputs": [
    {
     "data": {
      "text/plain": [
       "<AxesSubplot:xlabel='Generosity', ylabel='Density'>"
      ]
     },
     "execution_count": 217,
     "metadata": {},
     "output_type": "execute_result"
    },
    {
     "data": {
      "image/png": "[encoded data removed]",
      "text/plain": [
       "<Figure size 432x288 with 1 Axes>"
      ]
     },
     "metadata": {
      "needs_background": "light"
     },
     "output_type": "display_data"
    }
   ],
   "source": [
    "sns.distplot(df['Generosity'])"
   ]
  },
  {
   "cell_type": "markdown",
   "id": "7995a517",
   "metadata": {},
   "source": [
    "The normal distribution shows that the data is skewed"
   ]
  },
  {
   "cell_type": "markdown",
   "id": "1388b8a8",
   "metadata": {},
   "source": [
    "Now we will remove outliers that are present"
   ]
  },
  {
   "cell_type": "code",
   "execution_count": 218,
   "id": "864fd3d9",
   "metadata": {},
   "outputs": [
    {
     "data": {
      "text/plain": [
       "(158, 7)"
      ]
     },
     "execution_count": 218,
     "metadata": {},
     "output_type": "execute_result"
    }
   ],
   "source": [
    "from scipy.stats import zscore\n",
    "z = np.abs(zscore(df))\n",
    "z.shape"
   ]
  },
  {
   "cell_type": "code",
   "execution_count": 219,
   "id": "63ab4768",
   "metadata": {},
   "outputs": [
    {
     "name": "stdout",
     "output_type": "stream",
     "text": [
      "(array([ 27, 128, 147, 153, 157], dtype=int64), array([5, 6, 2, 5, 2], dtype=int64))\n"
     ]
    }
   ],
   "source": [
    "threshold = 3\n",
    "print(np.where(z>3))"
   ]
  },
  {
   "cell_type": "code",
   "execution_count": 221,
   "id": "f79d6d3b",
   "metadata": {},
   "outputs": [
    {
     "data": {
      "text/plain": [
       "5"
      ]
     },
     "execution_count": 221,
     "metadata": {},
     "output_type": "execute_result"
    }
   ],
   "source": [
    "len(np.where(z>3)[0])"
   ]
  },
  {
   "cell_type": "code",
   "execution_count": 223,
   "id": "a5895d7d",
   "metadata": {},
   "outputs": [
    {
     "name": "stdout",
     "output_type": "stream",
     "text": [
      "Old DataFrame  (158, 7)\n",
      "New DataFrame  (153, 7)\n",
      "Total dropped rows  5\n"
     ]
    }
   ],
   "source": [
    "df_new = df[(z<3).all(axis=1)]\n",
    "print(\"Old DataFrame \",df.shape)\n",
    "print(\"New DataFrame \",df_new.shape)\n",
    "print(\"Total dropped rows \",df.shape[0] - df_new.shape[0])"
   ]
  },
  {
   "cell_type": "markdown",
   "id": "98a972cd",
   "metadata": {},
   "source": [
    "# Percentage of Data Loss"
   ]
  },
  {
   "cell_type": "code",
   "execution_count": 224,
   "id": "84bc74cf",
   "metadata": {},
   "outputs": [
    {
     "name": "stdout",
     "output_type": "stream",
     "text": [
      "3.1645569620253164 %\n"
     ]
    }
   ],
   "source": [
    "loss_percent = (158-153)/158*100\n",
    "print(loss_percent,'%')"
   ]
  },
  {
   "cell_type": "markdown",
   "id": "d7ee417c",
   "metadata": {},
   "source": [
    "# Transforming Data to Remove Skewness"
   ]
  },
  {
   "cell_type": "code",
   "execution_count": 226,
   "id": "27e28291",
   "metadata": {},
   "outputs": [
    {
     "data": {
      "text/plain": [
       "array([[ 1.44606101e+00,  1.66920633e+00,  1.49176450e+00,\n",
       "         1.75633466e+00,  1.77399061e+00,  6.22390513e-01],\n",
       "       [ 1.17332111e+00,  2.01213244e+00,  1.53234847e+00,\n",
       "         1.43994643e+00,  3.15993256e-01,  1.48099498e+00],\n",
       "       [ 1.23983557e+00,  1.73958573e+00,  1.08522306e+00,\n",
       "         1.61573320e+00,  1.90679207e+00,  9.27972764e-01],\n",
       "       [ 1.63024551e+00,  1.55311811e+00,  1.14759962e+00,\n",
       "         1.79282102e+00,  1.62400701e+00,  9.64080261e-01],\n",
       "       [ 1.24216835e+00,  1.50172605e+00,  1.27017856e+00,\n",
       "         1.47547945e+00,  1.50348412e+00,  1.59222419e+00],\n",
       "       [ 1.13879938e+00,  1.47510960e+00,  1.17079907e+00,\n",
       "         1.54972572e+00,  1.75923250e+00,  1.27130119e-01],\n",
       "       [ 1.25124447e+00,  1.24751108e+00,  1.19308059e+00,\n",
       "         1.33081553e+00,  1.45991648e+00,  1.68007190e+00],\n",
       "       [ 1.25778915e+00,  1.29981977e+00,  1.30207755e+00,\n",
       "         1.70597065e+00,  1.81691406e+00,  1.06237761e+00],\n",
       "       [ 1.02489910e+00,  1.48372286e+00,  1.28683585e+00,\n",
       "         1.52999503e+00,  1.79616781e+00,  1.67484595e+00],\n",
       "       [ 1.26318316e+00,  1.42026859e+00,  1.42981646e+00,\n",
       "         1.63177353e+00,  1.59647289e+00,  1.47744045e+00],\n",
       "       [ 9.63923978e-01,  9.28988367e-01,  1.32042238e+00,\n",
       "        -1.90802767e-01, -4.66938615e-01,  8.64482884e-01],\n",
       "       [ 2.22100722e-01,  1.00608333e+00,  1.00158646e+00,\n",
       "         1.48217958e+00, -8.57558758e-02,  3.04030188e-01],\n",
       "       [ 1.27371832e+00,  1.34711124e+00,  1.17861407e+00,\n",
       "         1.40254364e+00,  7.20985912e-01,  8.58898426e-01],\n",
       "       [ 3.93452309e-01, -4.83935036e-01,  7.43691287e-01,\n",
       "         2.87993030e-01,  9.13428851e-01, -7.63598204e-01],\n",
       "       [ 1.44020854e+00,  1.05778139e+00,  1.01037000e+00,\n",
       "         7.69856069e-01,  4.84419076e-01,  1.28944096e+00],\n",
       "       [ 2.89106720e-01,  9.78251861e-01,  1.42283419e-01,\n",
       "         3.51187063e-01,  6.27390377e-01, -7.09669095e-01],\n",
       "       [ 1.94516955e+00,  9.05475140e-01,  1.35156128e+00,\n",
       "         1.33139892e+00,  1.66308951e+00,  5.01143773e-01],\n",
       "       [ 1.27005165e+00,  1.79679169e+00,  1.20800574e+00,\n",
       "         1.34758354e+00,  1.32781008e+00,  1.59670098e+00],\n",
       "       [ 1.18908428e+00,  1.27971558e+00,  1.21605464e+00,\n",
       "         1.07435432e+00,  9.94040434e-01,  3.25157071e-02],\n",
       "       [ 1.53640373e+00,  4.20800347e-01,  7.15324230e-01,\n",
       "         1.54869965e+00,  1.68562483e+00,  3.77825983e-01],\n",
       "       [ 1.07078893e+00,  1.27865652e+00,  1.29329327e+00,\n",
       "         1.16980353e+00,  1.46977543e+00,  1.87692119e+00],\n",
       "       [ 1.33996015e+00,  2.12197634e-01,  4.68682614e-01,\n",
       "         1.47352977e+00,  1.48727099e+00, -2.97707414e-02],\n",
       "       [ 4.56911608e-01,  1.10786967e+00,  2.56006098e-01,\n",
       "        -8.31854257e-02, -2.58415725e-02, -1.77167070e+00],\n",
       "       [ 1.81808901e+00, -6.26686061e-02,  2.04474183e+00,\n",
       "         7.42589473e-01,  1.92182721e+00,  7.23743244e-01],\n",
       "       [ 5.08857036e-01,  7.91633557e-01,  6.46942061e-01,\n",
       "         7.39342779e-01, -2.56617558e-01,  2.17616004e-01],\n",
       "       [ 1.24686405e+00,  1.36101718e+00,  1.18721761e+00,\n",
       "         1.32256904e+00,  9.48945208e-01,  5.14660249e-01],\n",
       "       [ 6.27287805e-01,  4.14562012e-01,  9.91780425e-01,\n",
       "         1.04165247e-03,  1.81628480e-01,  8.77139308e-01],\n",
       "       [ 2.33428411e+00,  1.97347857e-01,  6.50810512e-01,\n",
       "         1.53870175e+00,  1.97040524e+00,  8.24414210e-01],\n",
       "       [ 1.10323667e+00,  1.13307664e+00,  1.51933895e+00,\n",
       "         8.01508388e-01,  8.67406129e-01, -9.57486314e-01],\n",
       "       [ 4.81841605e-01,  1.06409211e+00,  5.96838560e-01,\n",
       "         5.96576088e-02, -3.65569377e-01, -1.05923227e+00],\n",
       "       [ 8.25206568e-01,  8.34027782e-01,  9.13206622e-01,\n",
       "         1.57633214e-01, -1.36298325e+00, -1.14967766e+00],\n",
       "       [ 5.03809844e-01,  8.47313326e-01,  7.28147735e-01,\n",
       "         1.23025518e+00,  1.11547544e+00,  1.17712900e-01],\n",
       "       [ 1.25120044e-01,  1.01891436e+00,  1.12583225e-01,\n",
       "         6.82066525e-01, -8.96100410e-01, -3.20537535e-01],\n",
       "       [ 2.51308915e-01,  1.15979078e+00,  3.45224931e-01,\n",
       "         8.52573414e-01, -1.25545154e+00,  2.11265933e+00],\n",
       "       [ 1.44284183e+00,  2.21960672e-01,  2.54680992e-01,\n",
       "        -8.40263620e-01,  1.48727099e+00, -8.03772421e-01],\n",
       "       [ 9.68258742e-01,  1.44789317e+00,  1.58198072e+00,\n",
       "         1.28364631e-01, -6.81434176e-01, -3.37366583e-01],\n",
       "       [ 9.04499233e-01,  1.37693726e+00,  1.15948433e+00,\n",
       "         1.23050217e+00,  2.58355208e-01,  1.86991578e+00],\n",
       "       [ 1.14088449e+00,  1.86180683e-01,  1.08909658e+00,\n",
       "        -2.95822961e-01, -4.16510758e-01,  2.94311026e-01],\n",
       "       [ 1.91578454e+00,  6.21669402e-01,  2.77661403e-01,\n",
       "         8.39637541e-01,  1.17374531e+00, -5.36490305e-01],\n",
       "       [ 3.26416294e-01, -2.61605595e-01, -2.58797333e-01,\n",
       "         1.17241895e+00,  2.63273668e-01, -4.59209956e-01],\n",
       "       [ 9.16909001e-01,  7.12726929e-01, -2.30392900e-01,\n",
       "         8.69855750e-01, -1.68775279e+00,  7.74866772e-01],\n",
       "       [-2.65996705e-01, -4.09276329e-02,  4.96710437e-02,\n",
       "        -2.55477530e-01,  5.82857524e-02, -1.14896055e+00],\n",
       "       [-3.13019713e-01,  3.95618363e-02, -1.01399055e-01,\n",
       "         1.01666901e+00, -2.29444709e-01,  4.59848430e-01],\n",
       "       [-5.87009297e-01,  1.61211555e+00, -3.03202123e-01,\n",
       "         1.69214180e+00,  1.42019404e+00,  8.32948342e-02],\n",
       "       [ 7.97244354e-01,  1.18832355e+00,  6.06357823e-01,\n",
       "        -7.98317503e-01, -1.20761947e+00, -4.69046248e-01],\n",
       "       [ 1.08320593e+00,  1.11447273e+00,  1.81364264e+00,\n",
       "         3.92715997e-01,  6.71821145e-01, -1.14740722e+00],\n",
       "       [ 1.00915231e+00, -3.18345985e-01,  1.64482733e+00,\n",
       "        -7.10224094e-01, -4.56295931e-01, -3.05516090e-01],\n",
       "       [-1.54785695e-02, -1.51102828e-01,  6.15576837e-01,\n",
       "         3.16531176e-01,  6.74254908e-01, -1.04872100e+00],\n",
       "       [ 1.23488345e+00,  8.87020858e-01,  3.88887296e-01,\n",
       "         9.59927962e-02,  1.41082648e+00, -4.22208642e-01],\n",
       "       [ 1.02761522e+00,  7.87750765e-01,  1.57455444e+00,\n",
       "        -1.11772305e+00, -1.31247635e+00,  8.20927157e-02],\n",
       "       [-4.69777649e-01, -2.35751915e-01, -5.40222732e-01,\n",
       "         9.91140077e-01, -3.21141396e-01, -1.20282014e-01],\n",
       "       [-6.76736131e-01, -8.27822250e-02, -2.15602514e-01,\n",
       "        -7.33957905e-01, -1.58227313e+00, -8.26539363e-02],\n",
       "       [-2.77623412e-01,  1.39338598e+00, -2.58712772e-02,\n",
       "         7.15346226e-01, -4.00175798e-01,  9.34520403e-01],\n",
       "       [ 6.69390998e-01,  4.04542591e-01, -1.03944384e-01,\n",
       "         5.44062549e-01, -3.69831774e-01, -1.01549673e+00],\n",
       "       [ 8.41900507e-01,  1.21068535e+00,  1.07777742e+00,\n",
       "         1.27094449e+00, -1.13915452e+00,  2.90447229e-01],\n",
       "       [ 7.37281580e-01,  1.11635279e+00,  3.09166721e-01,\n",
       "        -1.38290748e+00, -1.71242202e+00, -2.23472735e+00],\n",
       "       [-6.79624398e-01,  5.00050790e-01,  3.68562999e-01,\n",
       "         8.37757807e-01,  7.70387908e-01,  4.84617093e-01],\n",
       "       [ 7.74337749e-02, -2.51185387e-01,  3.03650782e-01,\n",
       "        -1.78911350e-01, -7.48280535e-01, -6.66213790e-01],\n",
       "       [ 4.23873596e-01,  9.78362644e-01,  3.33104176e-01,\n",
       "        -4.13353607e-01,  7.53093553e-01, -1.10686849e+00],\n",
       "       [ 6.77644939e-01,  1.24347768e+00,  5.53483510e-01,\n",
       "         6.55735170e-01, -1.05942444e+00, -4.82538354e-01],\n",
       "       [ 6.75752282e-01,  1.59025167e-01,  2.72828222e-01,\n",
       "         6.48251268e-01, -9.60372299e-02,  8.58033164e-01],\n",
       "       [ 5.60305722e-01, -8.89926764e-01,  6.01196881e-01,\n",
       "        -1.13741953e+00, -1.40870078e+00, -1.82670362e+00],\n",
       "       [ 6.93842081e-01,  3.86174419e-01,  1.74760313e-01,\n",
       "        -1.67332793e-01, -3.14384645e-02, -3.30780351e-01],\n",
       "       [ 7.10861405e-01,  9.96565822e-01,  1.20989388e-02,\n",
       "        -4.94010181e-01, -1.29161900e+00, -2.62020661e+00],\n",
       "       [-1.51481036e-01,  5.45962058e-01,  9.67104170e-02,\n",
       "         4.53853323e-01, -1.43598674e+00, -5.75866935e-02],\n",
       "       [ 9.06347240e-01,  1.58342025e-01,  1.38008569e+00,\n",
       "         3.49577998e-01,  3.29635425e-01,  3.57469928e-01],\n",
       "       [ 9.06543259e-01, -5.62155050e-01,  1.38008569e+00,\n",
       "        -2.34065789e-01, -7.22419394e-01,  6.90961489e-01],\n",
       "       [ 1.78952448e-01,  1.93299874e-01, -2.18194462e-01,\n",
       "        -9.84720958e-01,  6.15796987e-01, -1.50660618e+00],\n",
       "       [-1.73838610e-01, -8.39707814e-01, -1.58687921e-01,\n",
       "        -1.20009191e+00, -9.63136411e-01,  5.21844415e-01],\n",
       "       [ 2.29158169e-01,  9.44087695e-01, -5.41546478e-01,\n",
       "         2.46746678e-01,  1.42093555e+00, -4.60412993e-01],\n",
       "       [ 3.58999682e-01, -2.08087311e-01,  2.02272566e-01,\n",
       "         8.84182783e-01, -5.06366189e-01,  1.15232870e+00],\n",
       "       [ 1.41545262e+00,  1.04552971e-01,  1.96278444e+00,\n",
       "         1.16841443e+00,  1.64305275e+00,  1.25374671e+00],\n",
       "       [ 7.49728571e-01,  9.50856848e-01,  5.25053935e-01,\n",
       "         5.36453905e-02,  4.18301420e-01, -1.39653533e+00],\n",
       "       [-1.06360088e-01,  2.36583490e-01, -1.29518498e-01,\n",
       "         1.75201589e-01, -1.95469272e+00,  1.86037711e+00],\n",
       "       [-5.87675306e-01, -4.92293312e-01,  3.86860617e-01,\n",
       "         1.15502599e+00, -1.03592156e-01, -4.72364369e-01],\n",
       "       [ 5.01975114e-01, -3.63021621e-01,  3.11355255e-01,\n",
       "        -1.30487159e+00,  4.71148934e-01, -9.66506532e-01],\n",
       "       [-9.53230755e-01,  5.46615870e-01, -7.16578870e-02,\n",
       "        -4.41752437e-02, -1.05572515e+00,  6.47720047e-01],\n",
       "       [-5.34703167e-01, -5.21586040e-01, -1.67199119e+00,\n",
       "        -6.41067892e-01, -1.09330445e+00,  4.40256662e-01],\n",
       "       [-2.51396343e-01,  3.15873877e-01, -4.01206384e-01,\n",
       "         6.62156107e-01,  4.43055836e-01,  1.69857521e+00],\n",
       "       [ 4.02398022e-01, -3.95414489e-01, -1.18333294e-01,\n",
       "        -4.71643836e-01,  5.00400102e-01, -1.50959517e+00],\n",
       "       [-6.74504532e-01, -1.79979799e+00, -6.34213525e-01,\n",
       "        -1.83829247e+00, -1.00692898e-01,  8.97427724e-01],\n",
       "       [ 8.20568758e-02,  8.54918989e-02,  1.39279311e-01,\n",
       "        -2.34798555e-01,  3.30943505e-01, -1.10604046e+00],\n",
       "       [ 2.71006421e-01, -5.16995363e-01,  2.79092725e-01,\n",
       "        -1.54129269e+00,  3.31245230e-01, -5.45507293e-01],\n",
       "       [ 5.14694624e-02, -3.61351673e-01,  7.55437142e-01,\n",
       "         5.47674101e-01, -1.33671615e+00, -1.45969916e+00],\n",
       "       [-9.62004617e-01, -4.77938606e-01, -1.33174021e+00,\n",
       "         3.34967741e-01,  1.37293980e-01, -2.07519095e-01],\n",
       "       [ 4.54789863e-01, -5.88406976e-01,  5.00494739e-01,\n",
       "        -5.95479828e-01, -1.80027948e+00, -7.99166433e-01],\n",
       "       [ 1.30104887e-01, -1.06656986e-01,  3.94973123e-01,\n",
       "        -1.44716576e+00, -1.37014764e+00, -2.41331721e-01],\n",
       "       [ 7.72312563e-01,  4.87685168e-01,  1.08845080e+00,\n",
       "         5.30535678e-01, -1.70176328e+00, -8.02346181e-01],\n",
       "       [ 6.43600583e-01,  2.76515780e-01,  2.74948200e-01,\n",
       "        -9.21377302e-01, -6.92106452e-01, -3.37463529e-01],\n",
       "       [-4.11572507e-01,  2.76083305e-03, -3.72226695e-01,\n",
       "         1.41196302e+00,  1.16033662e-01,  2.63187253e-01],\n",
       "       [-1.56191088e+00, -3.42762791e-01, -9.05558571e-01,\n",
       "         1.73136424e-01,  1.72233216e+00,  1.80606784e+00],\n",
       "       [-3.39464266e-01, -1.32749239e+00, -2.53076045e-01,\n",
       "        -1.65782774e-01, -3.56785049e-01, -1.59186459e+00],\n",
       "       [ 1.24860490e-01, -1.37385924e-01,  3.29954528e-01,\n",
       "        -6.95012099e-01, -8.60155835e-01,  4.20034351e-02],\n",
       "       [-1.76797654e+00, -3.58042704e-02, -1.81178115e+00,\n",
       "        -6.59400305e-01,  4.57862607e-01,  3.41714654e-02],\n",
       "       [ 2.20376411e-02, -8.64225050e-01,  7.37172159e-01,\n",
       "        -5.53830084e-01, -6.79014751e-01, -7.42152596e-01],\n",
       "       [-9.63400832e-02, -4.66580555e-01,  6.15896904e-01,\n",
       "        -1.96746369e+00, -1.89993179e+00,  2.48286267e-01],\n",
       "       [-1.17165777e+00,  2.84364350e-02, -1.84030771e+00,\n",
       "        -7.97358602e-01,  1.41316869e-01, -5.20151242e-01],\n",
       "       [ 6.49966730e-02,  6.52910227e-01,  7.44627507e-03,\n",
       "         1.01178085e+00,  3.24998938e-01, -1.71858843e-02],\n",
       "       [-6.85702259e-01, -1.06598954e+00, -5.01450662e-01,\n",
       "         1.16702557e+00,  1.09771818e+00,  1.40467218e+00],\n",
       "       [-1.06562392e-01,  1.36837280e+00, -2.82261327e-01,\n",
       "        -3.39185039e-02, -1.36012200e+00,  8.68332292e-01],\n",
       "       [-3.95139736e-01,  1.70932346e-01, -1.84115865e+00,\n",
       "        -8.63377626e-01, -1.28064478e+00, -3.34265681e-01],\n",
       "       [ 7.56136950e-01, -4.28243693e-01,  1.12934838e+00,\n",
       "        -2.03512698e+00, -1.63027771e+00, -2.65294481e+00],\n",
       "       [ 4.07074338e-01, -8.78001578e-01,  8.82882650e-01,\n",
       "        -6.66850272e-01, -9.91739859e-01, -2.18074452e-03],\n",
       "       [ 6.65006093e-01,  8.11097612e-01,  4.49571914e-01,\n",
       "        -7.76636496e-01, -1.34138349e+00, -9.04461035e-01],\n",
       "       [-6.74762964e-01, -3.35090435e-01,  1.33135274e-01,\n",
       "        -2.68869280e-01, -6.13433054e-01,  9.95663479e-02],\n",
       "       [-1.13899101e+00, -6.94420535e-01, -4.02348542e-01,\n",
       "         2.18435904e-01,  4.07564770e-01,  9.50354842e-02],\n",
       "       [ 2.83528349e-02, -1.41640316e+00,  3.42366882e-01,\n",
       "        -1.11593312e+00, -6.87897000e-01, -1.69108519e+00],\n",
       "       [-6.66888205e-01, -4.42440738e-01, -2.96558509e-02,\n",
       "        -1.21378542e+00,  1.85557929e-01, -1.08268746e+00],\n",
       "       [-1.12357022e+00, -1.77055161e+00, -2.86663322e-01,\n",
       "        -2.24197753e-01,  1.48558923e-01, -5.83029157e-02],\n",
       "       [ 3.62165503e-01, -1.55060729e+00,  1.47199893e-01,\n",
       "        -9.00187404e-01, -7.69219088e-01,  1.17265238e+00],\n",
       "       [-1.79882494e-01,  8.14465620e-01,  3.35488505e-02,\n",
       "        -1.17952346e+00, -1.30042629e+00, -6.35307895e-01],\n",
       "       [ 3.00337464e-01, -8.17301639e-01, -2.83574082e-01,\n",
       "        -2.34925350e+00,  2.79399266e-01, -3.67056391e-01],\n",
       "       [ 1.30001008e-01,  7.18690879e-01, -1.39187263e+00,\n",
       "        -7.10285094e-01, -3.09474198e-01, -9.98639948e-01],\n",
       "       [-7.90630505e-01, -1.22818170e+00, -1.02878139e+00,\n",
       "        -1.21741669e-01, -1.03307726e+00,  1.04688149e-01],\n",
       "       [-1.39345665e+00, -7.68182991e-03, -1.23172650e+00,\n",
       "        -1.13864413e+00, -4.23774666e-01, -2.64434244e-01],\n",
       "       [-1.79055148e+00, -9.10523392e-01, -1.21058393e+00,\n",
       "        -9.87485447e-01, -7.08360163e-01,  2.11677900e-01],\n",
       "       [-5.57094540e-01, -1.85318381e+00, -6.31839720e-01,\n",
       "        -2.92790417e-01, -3.64434052e-01,  3.81505748e-01],\n",
       "       [-8.46993055e-01, -8.80461383e-02, -1.13054735e+00,\n",
       "        -1.93022345e+00,  3.67469483e-01, -2.57317043e-01],\n",
       "       [-1.40232139e+00, -1.05148039e+00, -1.06956289e+00,\n",
       "        -1.21783019e+00,  5.98151892e-01,  1.61086913e+00],\n",
       "       [-1.92299897e+00, -1.42062061e-01, -1.79883678e+00,\n",
       "        -1.31608997e+00, -4.90757838e-01,  2.50407578e-01],\n",
       "       [-1.20512393e+00, -6.63828395e-01, -4.22875761e-01,\n",
       "        -3.91107373e-01, -7.61888513e-01,  8.05689705e-01],\n",
       "       [-1.55737966e+00, -1.41694467e+00, -8.99390760e-01,\n",
       "        -4.60320064e-02,  4.05255069e-01,  2.08622123e-01],\n",
       "       [-1.26882091e+00, -3.26336919e-01, -1.97108893e+00,\n",
       "        -2.22862949e-01, -3.23091718e-01, -3.45688035e-02],\n",
       "       [-9.98561072e-01, -6.47831242e-01, -1.16095021e+00,\n",
       "        -1.22836110e+00,  6.22360824e-01,  1.86804480e-03],\n",
       "       [-1.19489828e+00, -1.52225942e-01, -9.86627246e-01,\n",
       "        -1.30359031e-01, -7.73226072e-01,  1.14024915e+00],\n",
       "       [-1.02936378e+00, -1.44489672e+00, -1.14837920e+00,\n",
       "         1.37067449e-01,  1.29992619e+00, -3.50380625e-01],\n",
       "       [-2.56886971e-01, -9.49447612e-01,  3.02310179e-01,\n",
       "        -1.46055864e+00, -1.11774519e+00, -1.50232117e+00],\n",
       "       [ 3.21671913e-01,  3.19152170e-01, -1.89136942e+00,\n",
       "         3.83890020e-01,  1.37965052e-01, -1.17665883e+00],\n",
       "       [-1.39329041e+00, -1.14814591e+00, -7.52829844e-01,\n",
       "        -6.92129050e-03,  7.48793537e-01,  2.80826370e+00],\n",
       "       [-3.21967538e-01, -1.84695267e+00,  2.99134190e-01,\n",
       "        -2.40391166e-01,  1.67848246e+00, -1.81236235e+00],\n",
       "       [-1.89359160e+00, -1.80449214e+00, -1.52167936e+00,\n",
       "        -7.31996742e-02, -5.89656914e-01,  8.61559088e-01],\n",
       "       [-8.87160376e-02, -6.67266870e-02,  1.95304066e-01,\n",
       "         7.02031537e-01, -2.68967562e-01,  1.32997534e+00],\n",
       "       [-1.06869217e+00, -5.81994130e-01, -1.50116128e+00,\n",
       "         3.70232369e-01, -7.82096115e-01, -1.12814445e-01],\n",
       "       [ 3.71109758e-01,  3.26288494e-01,  4.87980805e-01,\n",
       "        -8.67573585e-01, -1.74872415e+00, -1.00463572e+00],\n",
       "       [ 3.00736000e-02, -1.03983067e+00, -2.20525507e-01,\n",
       "        -1.58988408e+00, -6.93403036e-01, -1.07798571e+00],\n",
       "       [-7.88528536e-01, -1.22449240e+00, -1.03095908e+00,\n",
       "        -5.64006806e-01, -4.56738440e-01, -1.33977662e+00],\n",
       "       [-2.82749710e-01, -6.77997354e-01, -1.65727751e+00,\n",
       "        -1.91661265e+00, -5.67182719e-01, -9.56117917e-01],\n",
       "       [-1.41472976e+00,  3.19663609e-03, -1.56887545e+00,\n",
       "        -3.53722353e-01,  1.24273323e-01, -2.82432958e-01],\n",
       "       [-4.76228089e-01, -1.27173740e+00, -1.30060440e+00,\n",
       "        -1.80928538e-01,  4.77711202e-02, -9.51104434e-01],\n",
       "       [-1.45937382e+00, -9.00971465e-01, -1.14765326e+00,\n",
       "        -1.29941146e+00,  8.13822655e-01, -4.14377576e-01],\n",
       "       [-1.51649125e+00,  4.56269293e-01, -1.22051509e+00,\n",
       "         1.12546023e-01, -5.44908532e-01,  5.77827848e-01],\n",
       "       [-1.19431523e+00, -2.44730497e-01, -9.16801719e-01,\n",
       "        -4.88093083e-01, -6.95589863e-02, -9.24067938e-02],\n",
       "       [ 4.99978868e-01, -5.18061095e-01, -9.22453402e-01,\n",
       "        -7.88539890e-01, -2.31702051e-02, -1.63845742e+00],\n",
       "       [-1.79396018e+00, -9.63088371e-01, -1.33767127e+00,\n",
       "         2.52654150e-01,  4.61217641e-01, -2.26639805e-01],\n",
       "       [-9.84444267e-01, -1.36105904e+00, -2.46231675e-01,\n",
       "         1.72915363e+00, -5.47969018e-01,  1.30375687e+00],\n",
       "       [-1.36386103e+00, -1.35881442e-01, -1.08933486e+00,\n",
       "        -7.30313869e-01, -7.88641897e-01,  9.43376876e-01],\n",
       "       [-1.52211555e+00, -1.25848108e+00, -8.07172098e-01,\n",
       "        -1.49449844e+00, -4.17236151e-01, -4.83787294e-02],\n",
       "       [-1.77669560e+00, -2.27629536e+00, -1.85705601e+00,\n",
       "         3.38763358e-01, -3.93414710e-01,  1.67879681e-01],\n",
       "       [-1.24386566e+00, -9.99441385e-01, -1.69336872e+00,\n",
       "        -1.26800836e+00, -8.70180221e-01, -3.21985220e-01],\n",
       "       [-1.59047385e+00, -1.70970221e+00, -1.48615267e+00,\n",
       "        -4.27083297e-01,  1.00132223e-01,  5.47670303e-01],\n",
       "       [-9.73324539e-01, -9.67656163e-01, -1.68964412e+00,\n",
       "         1.93389235e-01,  6.60573063e-01, -1.54270828e-01],\n",
       "       [-1.42014714e+00, -7.07255385e-01, -1.40667297e+00,\n",
       "        -3.12078830e-01,  1.77581244e-01, -1.16173913e-02],\n",
       "       [-1.29096542e+00, -1.97037456e+00, -1.32045018e+00,\n",
       "        -1.27270182e+00, -1.96665302e-01,  1.07764663e+00],\n",
       "       [-1.49404642e+00, -9.59884960e-01, -9.39459445e-01,\n",
       "         1.13522912e+00,  2.01285642e+00,  6.53035575e-02],\n",
       "       [-1.36082896e+00, -1.89664366e+00, -1.27649581e+00,\n",
       "         3.07513580e-01, -4.33835376e-01, -3.34168820e-01],\n",
       "       [-5.13468800e-01, -1.69066357e+00,  2.62933123e-01,\n",
       "        -1.66865772e+00,  7.38914607e-01,  1.65933595e+00],\n",
       "       [-1.89495386e+00, -1.79680304e+00, -1.52569971e+00,\n",
       "        -1.84990313e+00, -1.51946236e-01, -1.94829419e-01],\n",
       "       [-1.52122584e+00, -2.16039658e+00, -1.37181091e+00,\n",
       "        -5.08362266e-01, -6.73262264e-02, -4.90414649e-01]])"
      ]
     },
     "execution_count": 226,
     "metadata": {},
     "output_type": "execute_result"
    }
   ],
   "source": [
    "from sklearn.preprocessing import power_transform\n",
    "x = power_transform(x,method='yeo-johnson')\n",
    "x"
   ]
  },
  {
   "cell_type": "code",
   "execution_count": 227,
   "id": "e0fb8acf",
   "metadata": {},
   "outputs": [
    {
     "data": {
      "text/plain": [
       "0   -0.127233\n",
       "1   -0.169651\n",
       "2   -0.183181\n",
       "3   -0.080728\n",
       "4    0.185965\n",
       "5    0.013320\n",
       "dtype: float64"
      ]
     },
     "execution_count": 227,
     "metadata": {},
     "output_type": "execute_result"
    }
   ],
   "source": [
    "pd.DataFrame(x).skew()"
   ]
  },
  {
   "cell_type": "markdown",
   "id": "ee3d65bc",
   "metadata": {},
   "source": [
    "we use standard scalar to make mean = 0 and std = 1"
   ]
  },
  {
   "cell_type": "code",
   "execution_count": 228,
   "id": "d39b5f8c",
   "metadata": {},
   "outputs": [
    {
     "data": {
      "text/plain": [
       "array([[ 1.44606101e+00,  1.66920633e+00,  1.49176450e+00,\n",
       "         1.75633466e+00,  1.77399061e+00,  6.22390513e-01],\n",
       "       [ 1.17332111e+00,  2.01213244e+00,  1.53234847e+00,\n",
       "         1.43994643e+00,  3.15993256e-01,  1.48099498e+00],\n",
       "       [ 1.23983557e+00,  1.73958573e+00,  1.08522306e+00,\n",
       "         1.61573320e+00,  1.90679207e+00,  9.27972764e-01],\n",
       "       [ 1.63024551e+00,  1.55311811e+00,  1.14759962e+00,\n",
       "         1.79282102e+00,  1.62400701e+00,  9.64080261e-01],\n",
       "       [ 1.24216835e+00,  1.50172605e+00,  1.27017856e+00,\n",
       "         1.47547945e+00,  1.50348412e+00,  1.59222419e+00],\n",
       "       [ 1.13879938e+00,  1.47510960e+00,  1.17079907e+00,\n",
       "         1.54972572e+00,  1.75923250e+00,  1.27130119e-01],\n",
       "       [ 1.25124447e+00,  1.24751108e+00,  1.19308059e+00,\n",
       "         1.33081553e+00,  1.45991648e+00,  1.68007190e+00],\n",
       "       [ 1.25778915e+00,  1.29981977e+00,  1.30207755e+00,\n",
       "         1.70597065e+00,  1.81691406e+00,  1.06237761e+00],\n",
       "       [ 1.02489910e+00,  1.48372286e+00,  1.28683585e+00,\n",
       "         1.52999503e+00,  1.79616781e+00,  1.67484595e+00],\n",
       "       [ 1.26318316e+00,  1.42026859e+00,  1.42981646e+00,\n",
       "         1.63177353e+00,  1.59647289e+00,  1.47744045e+00],\n",
       "       [ 9.63923978e-01,  9.28988367e-01,  1.32042238e+00,\n",
       "        -1.90802767e-01, -4.66938615e-01,  8.64482884e-01],\n",
       "       [ 2.22100722e-01,  1.00608333e+00,  1.00158646e+00,\n",
       "         1.48217958e+00, -8.57558758e-02,  3.04030188e-01],\n",
       "       [ 1.27371832e+00,  1.34711124e+00,  1.17861407e+00,\n",
       "         1.40254364e+00,  7.20985912e-01,  8.58898426e-01],\n",
       "       [ 3.93452309e-01, -4.83935036e-01,  7.43691287e-01,\n",
       "         2.87993030e-01,  9.13428851e-01, -7.63598204e-01],\n",
       "       [ 1.44020854e+00,  1.05778139e+00,  1.01037000e+00,\n",
       "         7.69856069e-01,  4.84419076e-01,  1.28944096e+00],\n",
       "       [ 2.89106720e-01,  9.78251861e-01,  1.42283419e-01,\n",
       "         3.51187063e-01,  6.27390377e-01, -7.09669095e-01],\n",
       "       [ 1.94516955e+00,  9.05475140e-01,  1.35156128e+00,\n",
       "         1.33139892e+00,  1.66308951e+00,  5.01143773e-01],\n",
       "       [ 1.27005165e+00,  1.79679169e+00,  1.20800574e+00,\n",
       "         1.34758354e+00,  1.32781008e+00,  1.59670098e+00],\n",
       "       [ 1.18908428e+00,  1.27971558e+00,  1.21605464e+00,\n",
       "         1.07435432e+00,  9.94040434e-01,  3.25157071e-02],\n",
       "       [ 1.53640373e+00,  4.20800347e-01,  7.15324230e-01,\n",
       "         1.54869965e+00,  1.68562483e+00,  3.77825983e-01],\n",
       "       [ 1.07078893e+00,  1.27865652e+00,  1.29329327e+00,\n",
       "         1.16980353e+00,  1.46977543e+00,  1.87692119e+00],\n",
       "       [ 1.33996015e+00,  2.12197634e-01,  4.68682614e-01,\n",
       "         1.47352977e+00,  1.48727099e+00, -2.97707414e-02],\n",
       "       [ 4.56911608e-01,  1.10786967e+00,  2.56006098e-01,\n",
       "        -8.31854257e-02, -2.58415725e-02, -1.77167070e+00],\n",
       "       [ 1.81808901e+00, -6.26686061e-02,  2.04474183e+00,\n",
       "         7.42589473e-01,  1.92182721e+00,  7.23743244e-01],\n",
       "       [ 5.08857036e-01,  7.91633557e-01,  6.46942061e-01,\n",
       "         7.39342779e-01, -2.56617558e-01,  2.17616004e-01],\n",
       "       [ 1.24686405e+00,  1.36101718e+00,  1.18721761e+00,\n",
       "         1.32256904e+00,  9.48945208e-01,  5.14660249e-01],\n",
       "       [ 6.27287805e-01,  4.14562012e-01,  9.91780425e-01,\n",
       "         1.04165247e-03,  1.81628480e-01,  8.77139308e-01],\n",
       "       [ 2.33428411e+00,  1.97347857e-01,  6.50810512e-01,\n",
       "         1.53870175e+00,  1.97040524e+00,  8.24414210e-01],\n",
       "       [ 1.10323667e+00,  1.13307664e+00,  1.51933895e+00,\n",
       "         8.01508388e-01,  8.67406129e-01, -9.57486314e-01],\n",
       "       [ 4.81841605e-01,  1.06409211e+00,  5.96838560e-01,\n",
       "         5.96576088e-02, -3.65569377e-01, -1.05923227e+00],\n",
       "       [ 8.25206568e-01,  8.34027782e-01,  9.13206622e-01,\n",
       "         1.57633214e-01, -1.36298325e+00, -1.14967766e+00],\n",
       "       [ 5.03809844e-01,  8.47313326e-01,  7.28147735e-01,\n",
       "         1.23025518e+00,  1.11547544e+00,  1.17712900e-01],\n",
       "       [ 1.25120044e-01,  1.01891436e+00,  1.12583225e-01,\n",
       "         6.82066525e-01, -8.96100410e-01, -3.20537535e-01],\n",
       "       [ 2.51308915e-01,  1.15979078e+00,  3.45224931e-01,\n",
       "         8.52573414e-01, -1.25545154e+00,  2.11265933e+00],\n",
       "       [ 1.44284183e+00,  2.21960672e-01,  2.54680992e-01,\n",
       "        -8.40263620e-01,  1.48727099e+00, -8.03772421e-01],\n",
       "       [ 9.68258742e-01,  1.44789317e+00,  1.58198072e+00,\n",
       "         1.28364631e-01, -6.81434176e-01, -3.37366583e-01],\n",
       "       [ 9.04499233e-01,  1.37693726e+00,  1.15948433e+00,\n",
       "         1.23050217e+00,  2.58355208e-01,  1.86991578e+00],\n",
       "       [ 1.14088449e+00,  1.86180683e-01,  1.08909658e+00,\n",
       "        -2.95822961e-01, -4.16510758e-01,  2.94311026e-01],\n",
       "       [ 1.91578454e+00,  6.21669402e-01,  2.77661403e-01,\n",
       "         8.39637541e-01,  1.17374531e+00, -5.36490305e-01],\n",
       "       [ 3.26416294e-01, -2.61605595e-01, -2.58797333e-01,\n",
       "         1.17241895e+00,  2.63273668e-01, -4.59209956e-01],\n",
       "       [ 9.16909001e-01,  7.12726929e-01, -2.30392900e-01,\n",
       "         8.69855750e-01, -1.68775279e+00,  7.74866772e-01],\n",
       "       [-2.65996705e-01, -4.09276329e-02,  4.96710437e-02,\n",
       "        -2.55477530e-01,  5.82857524e-02, -1.14896055e+00],\n",
       "       [-3.13019713e-01,  3.95618363e-02, -1.01399055e-01,\n",
       "         1.01666901e+00, -2.29444709e-01,  4.59848430e-01],\n",
       "       [-5.87009297e-01,  1.61211555e+00, -3.03202123e-01,\n",
       "         1.69214180e+00,  1.42019404e+00,  8.32948342e-02],\n",
       "       [ 7.97244354e-01,  1.18832355e+00,  6.06357823e-01,\n",
       "        -7.98317503e-01, -1.20761947e+00, -4.69046248e-01],\n",
       "       [ 1.08320593e+00,  1.11447273e+00,  1.81364264e+00,\n",
       "         3.92715997e-01,  6.71821145e-01, -1.14740722e+00],\n",
       "       [ 1.00915231e+00, -3.18345985e-01,  1.64482733e+00,\n",
       "        -7.10224094e-01, -4.56295931e-01, -3.05516090e-01],\n",
       "       [-1.54785695e-02, -1.51102828e-01,  6.15576837e-01,\n",
       "         3.16531176e-01,  6.74254908e-01, -1.04872100e+00],\n",
       "       [ 1.23488345e+00,  8.87020858e-01,  3.88887296e-01,\n",
       "         9.59927962e-02,  1.41082648e+00, -4.22208642e-01],\n",
       "       [ 1.02761522e+00,  7.87750765e-01,  1.57455444e+00,\n",
       "        -1.11772305e+00, -1.31247635e+00,  8.20927157e-02],\n",
       "       [-4.69777649e-01, -2.35751915e-01, -5.40222732e-01,\n",
       "         9.91140077e-01, -3.21141396e-01, -1.20282014e-01],\n",
       "       [-6.76736131e-01, -8.27822250e-02, -2.15602514e-01,\n",
       "        -7.33957905e-01, -1.58227313e+00, -8.26539363e-02],\n",
       "       [-2.77623412e-01,  1.39338598e+00, -2.58712772e-02,\n",
       "         7.15346226e-01, -4.00175798e-01,  9.34520403e-01],\n",
       "       [ 6.69390998e-01,  4.04542591e-01, -1.03944384e-01,\n",
       "         5.44062549e-01, -3.69831774e-01, -1.01549673e+00],\n",
       "       [ 8.41900507e-01,  1.21068535e+00,  1.07777742e+00,\n",
       "         1.27094449e+00, -1.13915452e+00,  2.90447229e-01],\n",
       "       [ 7.37281580e-01,  1.11635279e+00,  3.09166721e-01,\n",
       "        -1.38290748e+00, -1.71242202e+00, -2.23472735e+00],\n",
       "       [-6.79624398e-01,  5.00050790e-01,  3.68562999e-01,\n",
       "         8.37757807e-01,  7.70387908e-01,  4.84617093e-01],\n",
       "       [ 7.74337749e-02, -2.51185387e-01,  3.03650782e-01,\n",
       "        -1.78911350e-01, -7.48280535e-01, -6.66213790e-01],\n",
       "       [ 4.23873596e-01,  9.78362644e-01,  3.33104176e-01,\n",
       "        -4.13353607e-01,  7.53093553e-01, -1.10686849e+00],\n",
       "       [ 6.77644939e-01,  1.24347768e+00,  5.53483510e-01,\n",
       "         6.55735170e-01, -1.05942444e+00, -4.82538354e-01],\n",
       "       [ 6.75752282e-01,  1.59025167e-01,  2.72828222e-01,\n",
       "         6.48251268e-01, -9.60372299e-02,  8.58033164e-01],\n",
       "       [ 5.60305722e-01, -8.89926764e-01,  6.01196881e-01,\n",
       "        -1.13741953e+00, -1.40870078e+00, -1.82670362e+00],\n",
       "       [ 6.93842081e-01,  3.86174419e-01,  1.74760313e-01,\n",
       "        -1.67332793e-01, -3.14384645e-02, -3.30780351e-01],\n",
       "       [ 7.10861405e-01,  9.96565822e-01,  1.20989388e-02,\n",
       "        -4.94010181e-01, -1.29161900e+00, -2.62020661e+00],\n",
       "       [-1.51481036e-01,  5.45962058e-01,  9.67104170e-02,\n",
       "         4.53853323e-01, -1.43598674e+00, -5.75866935e-02],\n",
       "       [ 9.06347240e-01,  1.58342025e-01,  1.38008569e+00,\n",
       "         3.49577998e-01,  3.29635425e-01,  3.57469928e-01],\n",
       "       [ 9.06543259e-01, -5.62155050e-01,  1.38008569e+00,\n",
       "        -2.34065789e-01, -7.22419394e-01,  6.90961489e-01],\n",
       "       [ 1.78952448e-01,  1.93299874e-01, -2.18194462e-01,\n",
       "        -9.84720958e-01,  6.15796987e-01, -1.50660618e+00],\n",
       "       [-1.73838610e-01, -8.39707814e-01, -1.58687921e-01,\n",
       "        -1.20009191e+00, -9.63136411e-01,  5.21844415e-01],\n",
       "       [ 2.29158169e-01,  9.44087695e-01, -5.41546478e-01,\n",
       "         2.46746678e-01,  1.42093555e+00, -4.60412993e-01],\n",
       "       [ 3.58999682e-01, -2.08087311e-01,  2.02272566e-01,\n",
       "         8.84182783e-01, -5.06366189e-01,  1.15232870e+00],\n",
       "       [ 1.41545262e+00,  1.04552971e-01,  1.96278444e+00,\n",
       "         1.16841443e+00,  1.64305275e+00,  1.25374671e+00],\n",
       "       [ 7.49728571e-01,  9.50856848e-01,  5.25053935e-01,\n",
       "         5.36453905e-02,  4.18301420e-01, -1.39653533e+00],\n",
       "       [-1.06360088e-01,  2.36583490e-01, -1.29518498e-01,\n",
       "         1.75201589e-01, -1.95469272e+00,  1.86037711e+00],\n",
       "       [-5.87675306e-01, -4.92293312e-01,  3.86860617e-01,\n",
       "         1.15502599e+00, -1.03592156e-01, -4.72364369e-01],\n",
       "       [ 5.01975114e-01, -3.63021621e-01,  3.11355255e-01,\n",
       "        -1.30487159e+00,  4.71148934e-01, -9.66506532e-01],\n",
       "       [-9.53230755e-01,  5.46615870e-01, -7.16578870e-02,\n",
       "        -4.41752437e-02, -1.05572515e+00,  6.47720047e-01],\n",
       "       [-5.34703167e-01, -5.21586040e-01, -1.67199119e+00,\n",
       "        -6.41067892e-01, -1.09330445e+00,  4.40256662e-01],\n",
       "       [-2.51396343e-01,  3.15873877e-01, -4.01206384e-01,\n",
       "         6.62156107e-01,  4.43055836e-01,  1.69857521e+00],\n",
       "       [ 4.02398022e-01, -3.95414489e-01, -1.18333294e-01,\n",
       "        -4.71643836e-01,  5.00400102e-01, -1.50959517e+00],\n",
       "       [-6.74504532e-01, -1.79979799e+00, -6.34213525e-01,\n",
       "        -1.83829247e+00, -1.00692898e-01,  8.97427724e-01],\n",
       "       [ 8.20568758e-02,  8.54918989e-02,  1.39279311e-01,\n",
       "        -2.34798555e-01,  3.30943505e-01, -1.10604046e+00],\n",
       "       [ 2.71006421e-01, -5.16995363e-01,  2.79092725e-01,\n",
       "        -1.54129269e+00,  3.31245230e-01, -5.45507293e-01],\n",
       "       [ 5.14694624e-02, -3.61351673e-01,  7.55437142e-01,\n",
       "         5.47674101e-01, -1.33671615e+00, -1.45969916e+00],\n",
       "       [-9.62004617e-01, -4.77938606e-01, -1.33174021e+00,\n",
       "         3.34967741e-01,  1.37293980e-01, -2.07519095e-01],\n",
       "       [ 4.54789863e-01, -5.88406976e-01,  5.00494739e-01,\n",
       "        -5.95479828e-01, -1.80027948e+00, -7.99166433e-01],\n",
       "       [ 1.30104887e-01, -1.06656986e-01,  3.94973123e-01,\n",
       "        -1.44716576e+00, -1.37014764e+00, -2.41331721e-01],\n",
       "       [ 7.72312563e-01,  4.87685168e-01,  1.08845080e+00,\n",
       "         5.30535678e-01, -1.70176328e+00, -8.02346181e-01],\n",
       "       [ 6.43600583e-01,  2.76515780e-01,  2.74948200e-01,\n",
       "        -9.21377302e-01, -6.92106452e-01, -3.37463529e-01],\n",
       "       [-4.11572507e-01,  2.76083305e-03, -3.72226695e-01,\n",
       "         1.41196302e+00,  1.16033662e-01,  2.63187253e-01],\n",
       "       [-1.56191088e+00, -3.42762791e-01, -9.05558571e-01,\n",
       "         1.73136424e-01,  1.72233216e+00,  1.80606784e+00],\n",
       "       [-3.39464266e-01, -1.32749239e+00, -2.53076045e-01,\n",
       "        -1.65782774e-01, -3.56785049e-01, -1.59186459e+00],\n",
       "       [ 1.24860490e-01, -1.37385924e-01,  3.29954528e-01,\n",
       "        -6.95012099e-01, -8.60155835e-01,  4.20034351e-02],\n",
       "       [-1.76797654e+00, -3.58042704e-02, -1.81178115e+00,\n",
       "        -6.59400305e-01,  4.57862607e-01,  3.41714654e-02],\n",
       "       [ 2.20376411e-02, -8.64225050e-01,  7.37172159e-01,\n",
       "        -5.53830084e-01, -6.79014751e-01, -7.42152596e-01],\n",
       "       [-9.63400832e-02, -4.66580555e-01,  6.15896904e-01,\n",
       "        -1.96746369e+00, -1.89993179e+00,  2.48286267e-01],\n",
       "       [-1.17165777e+00,  2.84364350e-02, -1.84030771e+00,\n",
       "        -7.97358602e-01,  1.41316869e-01, -5.20151242e-01],\n",
       "       [ 6.49966730e-02,  6.52910227e-01,  7.44627507e-03,\n",
       "         1.01178085e+00,  3.24998938e-01, -1.71858843e-02],\n",
       "       [-6.85702259e-01, -1.06598954e+00, -5.01450662e-01,\n",
       "         1.16702557e+00,  1.09771818e+00,  1.40467218e+00],\n",
       "       [-1.06562392e-01,  1.36837280e+00, -2.82261327e-01,\n",
       "        -3.39185039e-02, -1.36012200e+00,  8.68332292e-01],\n",
       "       [-3.95139736e-01,  1.70932346e-01, -1.84115865e+00,\n",
       "        -8.63377626e-01, -1.28064478e+00, -3.34265681e-01],\n",
       "       [ 7.56136950e-01, -4.28243693e-01,  1.12934838e+00,\n",
       "        -2.03512698e+00, -1.63027771e+00, -2.65294481e+00],\n",
       "       [ 4.07074338e-01, -8.78001578e-01,  8.82882650e-01,\n",
       "        -6.66850272e-01, -9.91739859e-01, -2.18074452e-03],\n",
       "       [ 6.65006093e-01,  8.11097612e-01,  4.49571914e-01,\n",
       "        -7.76636496e-01, -1.34138349e+00, -9.04461035e-01],\n",
       "       [-6.74762964e-01, -3.35090435e-01,  1.33135274e-01,\n",
       "        -2.68869280e-01, -6.13433054e-01,  9.95663479e-02],\n",
       "       [-1.13899101e+00, -6.94420535e-01, -4.02348542e-01,\n",
       "         2.18435904e-01,  4.07564770e-01,  9.50354842e-02],\n",
       "       [ 2.83528349e-02, -1.41640316e+00,  3.42366882e-01,\n",
       "        -1.11593312e+00, -6.87897000e-01, -1.69108519e+00],\n",
       "       [-6.66888205e-01, -4.42440738e-01, -2.96558509e-02,\n",
       "        -1.21378542e+00,  1.85557929e-01, -1.08268746e+00],\n",
       "       [-1.12357022e+00, -1.77055161e+00, -2.86663322e-01,\n",
       "        -2.24197753e-01,  1.48558923e-01, -5.83029157e-02],\n",
       "       [ 3.62165503e-01, -1.55060729e+00,  1.47199893e-01,\n",
       "        -9.00187404e-01, -7.69219088e-01,  1.17265238e+00],\n",
       "       [-1.79882494e-01,  8.14465620e-01,  3.35488505e-02,\n",
       "        -1.17952346e+00, -1.30042629e+00, -6.35307895e-01],\n",
       "       [ 3.00337464e-01, -8.17301639e-01, -2.83574082e-01,\n",
       "        -2.34925350e+00,  2.79399266e-01, -3.67056391e-01],\n",
       "       [ 1.30001008e-01,  7.18690879e-01, -1.39187263e+00,\n",
       "        -7.10285094e-01, -3.09474198e-01, -9.98639948e-01],\n",
       "       [-7.90630505e-01, -1.22818170e+00, -1.02878139e+00,\n",
       "        -1.21741669e-01, -1.03307726e+00,  1.04688149e-01],\n",
       "       [-1.39345665e+00, -7.68182991e-03, -1.23172650e+00,\n",
       "        -1.13864413e+00, -4.23774666e-01, -2.64434244e-01],\n",
       "       [-1.79055148e+00, -9.10523392e-01, -1.21058393e+00,\n",
       "        -9.87485447e-01, -7.08360163e-01,  2.11677900e-01],\n",
       "       [-5.57094540e-01, -1.85318381e+00, -6.31839720e-01,\n",
       "        -2.92790417e-01, -3.64434052e-01,  3.81505748e-01],\n",
       "       [-8.46993055e-01, -8.80461383e-02, -1.13054735e+00,\n",
       "        -1.93022345e+00,  3.67469483e-01, -2.57317043e-01],\n",
       "       [-1.40232139e+00, -1.05148039e+00, -1.06956289e+00,\n",
       "        -1.21783019e+00,  5.98151892e-01,  1.61086913e+00],\n",
       "       [-1.92299897e+00, -1.42062061e-01, -1.79883678e+00,\n",
       "        -1.31608997e+00, -4.90757838e-01,  2.50407578e-01],\n",
       "       [-1.20512393e+00, -6.63828395e-01, -4.22875761e-01,\n",
       "        -3.91107373e-01, -7.61888513e-01,  8.05689705e-01],\n",
       "       [-1.55737966e+00, -1.41694467e+00, -8.99390760e-01,\n",
       "        -4.60320064e-02,  4.05255069e-01,  2.08622123e-01],\n",
       "       [-1.26882091e+00, -3.26336919e-01, -1.97108893e+00,\n",
       "        -2.22862949e-01, -3.23091718e-01, -3.45688035e-02],\n",
       "       [-9.98561072e-01, -6.47831242e-01, -1.16095021e+00,\n",
       "        -1.22836110e+00,  6.22360824e-01,  1.86804480e-03],\n",
       "       [-1.19489828e+00, -1.52225942e-01, -9.86627246e-01,\n",
       "        -1.30359031e-01, -7.73226072e-01,  1.14024915e+00],\n",
       "       [-1.02936378e+00, -1.44489672e+00, -1.14837920e+00,\n",
       "         1.37067449e-01,  1.29992619e+00, -3.50380625e-01],\n",
       "       [-2.56886971e-01, -9.49447612e-01,  3.02310179e-01,\n",
       "        -1.46055864e+00, -1.11774519e+00, -1.50232117e+00],\n",
       "       [ 3.21671913e-01,  3.19152170e-01, -1.89136942e+00,\n",
       "         3.83890020e-01,  1.37965052e-01, -1.17665883e+00],\n",
       "       [-1.39329041e+00, -1.14814591e+00, -7.52829844e-01,\n",
       "        -6.92129050e-03,  7.48793537e-01,  2.80826370e+00],\n",
       "       [-3.21967538e-01, -1.84695267e+00,  2.99134190e-01,\n",
       "        -2.40391166e-01,  1.67848246e+00, -1.81236235e+00],\n",
       "       [-1.89359160e+00, -1.80449214e+00, -1.52167936e+00,\n",
       "        -7.31996742e-02, -5.89656914e-01,  8.61559088e-01],\n",
       "       [-8.87160376e-02, -6.67266870e-02,  1.95304066e-01,\n",
       "         7.02031537e-01, -2.68967562e-01,  1.32997534e+00],\n",
       "       [-1.06869217e+00, -5.81994130e-01, -1.50116128e+00,\n",
       "         3.70232369e-01, -7.82096115e-01, -1.12814445e-01],\n",
       "       [ 3.71109758e-01,  3.26288494e-01,  4.87980805e-01,\n",
       "        -8.67573585e-01, -1.74872415e+00, -1.00463572e+00],\n",
       "       [ 3.00736000e-02, -1.03983067e+00, -2.20525507e-01,\n",
       "        -1.58988408e+00, -6.93403036e-01, -1.07798571e+00],\n",
       "       [-7.88528536e-01, -1.22449240e+00, -1.03095908e+00,\n",
       "        -5.64006806e-01, -4.56738440e-01, -1.33977662e+00],\n",
       "       [-2.82749710e-01, -6.77997354e-01, -1.65727751e+00,\n",
       "        -1.91661265e+00, -5.67182719e-01, -9.56117917e-01],\n",
       "       [-1.41472976e+00,  3.19663609e-03, -1.56887545e+00,\n",
       "        -3.53722353e-01,  1.24273323e-01, -2.82432958e-01],\n",
       "       [-4.76228089e-01, -1.27173740e+00, -1.30060440e+00,\n",
       "        -1.80928538e-01,  4.77711202e-02, -9.51104434e-01],\n",
       "       [-1.45937382e+00, -9.00971465e-01, -1.14765326e+00,\n",
       "        -1.29941146e+00,  8.13822655e-01, -4.14377576e-01],\n",
       "       [-1.51649125e+00,  4.56269293e-01, -1.22051509e+00,\n",
       "         1.12546023e-01, -5.44908532e-01,  5.77827848e-01],\n",
       "       [-1.19431523e+00, -2.44730497e-01, -9.16801719e-01,\n",
       "        -4.88093083e-01, -6.95589863e-02, -9.24067938e-02],\n",
       "       [ 4.99978868e-01, -5.18061095e-01, -9.22453402e-01,\n",
       "        -7.88539890e-01, -2.31702051e-02, -1.63845742e+00],\n",
       "       [-1.79396018e+00, -9.63088371e-01, -1.33767127e+00,\n",
       "         2.52654150e-01,  4.61217641e-01, -2.26639805e-01],\n",
       "       [-9.84444267e-01, -1.36105904e+00, -2.46231675e-01,\n",
       "         1.72915363e+00, -5.47969018e-01,  1.30375687e+00],\n",
       "       [-1.36386103e+00, -1.35881442e-01, -1.08933486e+00,\n",
       "        -7.30313869e-01, -7.88641897e-01,  9.43376876e-01],\n",
       "       [-1.52211555e+00, -1.25848108e+00, -8.07172098e-01,\n",
       "        -1.49449844e+00, -4.17236151e-01, -4.83787294e-02],\n",
       "       [-1.77669560e+00, -2.27629536e+00, -1.85705601e+00,\n",
       "         3.38763358e-01, -3.93414710e-01,  1.67879681e-01],\n",
       "       [-1.24386566e+00, -9.99441385e-01, -1.69336872e+00,\n",
       "        -1.26800836e+00, -8.70180221e-01, -3.21985220e-01],\n",
       "       [-1.59047385e+00, -1.70970221e+00, -1.48615267e+00,\n",
       "        -4.27083297e-01,  1.00132223e-01,  5.47670303e-01],\n",
       "       [-9.73324539e-01, -9.67656163e-01, -1.68964412e+00,\n",
       "         1.93389235e-01,  6.60573063e-01, -1.54270828e-01],\n",
       "       [-1.42014714e+00, -7.07255385e-01, -1.40667297e+00,\n",
       "        -3.12078830e-01,  1.77581244e-01, -1.16173913e-02],\n",
       "       [-1.29096542e+00, -1.97037456e+00, -1.32045018e+00,\n",
       "        -1.27270182e+00, -1.96665302e-01,  1.07764663e+00],\n",
       "       [-1.49404642e+00, -9.59884960e-01, -9.39459445e-01,\n",
       "         1.13522912e+00,  2.01285642e+00,  6.53035575e-02],\n",
       "       [-1.36082896e+00, -1.89664366e+00, -1.27649581e+00,\n",
       "         3.07513580e-01, -4.33835376e-01, -3.34168820e-01],\n",
       "       [-5.13468800e-01, -1.69066357e+00,  2.62933123e-01,\n",
       "        -1.66865772e+00,  7.38914607e-01,  1.65933595e+00],\n",
       "       [-1.89495386e+00, -1.79680304e+00, -1.52569971e+00,\n",
       "        -1.84990313e+00, -1.51946236e-01, -1.94829419e-01],\n",
       "       [-1.52122584e+00, -2.16039658e+00, -1.37181091e+00,\n",
       "        -5.08362266e-01, -6.73262264e-02, -4.90414649e-01]])"
      ]
     },
     "execution_count": 228,
     "metadata": {},
     "output_type": "execute_result"
    }
   ],
   "source": [
    "from sklearn.preprocessing import StandardScaler\n",
    "sc = StandardScaler()\n",
    "x = sc.fit_transform(x)\n",
    "x"
   ]
  },
  {
   "cell_type": "markdown",
   "id": "10c70679",
   "metadata": {},
   "source": [
    "Since happiness score is  continuoes data we go for Linear Regression "
   ]
  },
  {
   "cell_type": "code",
   "execution_count": 229,
   "id": "ff3939f6",
   "metadata": {},
   "outputs": [
    {
     "data": {
      "text/plain": [
       "(158, 6)"
      ]
     },
     "execution_count": 229,
     "metadata": {},
     "output_type": "execute_result"
    }
   ],
   "source": [
    "x.shape "
   ]
  },
  {
   "cell_type": "code",
   "execution_count": 230,
   "id": "12d0510d",
   "metadata": {},
   "outputs": [
    {
     "data": {
      "text/plain": [
       "(158,)"
      ]
     },
     "execution_count": 230,
     "metadata": {},
     "output_type": "execute_result"
    }
   ],
   "source": [
    "y.shape"
   ]
  },
  {
   "cell_type": "code",
   "execution_count": 234,
   "id": "d7adbfe1",
   "metadata": {},
   "outputs": [],
   "source": [
    "from sklearn.linear_model import LinearRegression\n",
    "from sklearn.model_selection import train_test_split\n",
    "x_train,x_test,y_train,y_test = train_test_split(x,y,test_size=.20,random_state=7)"
   ]
  },
  {
   "cell_type": "code",
   "execution_count": 235,
   "id": "00f3fdd7",
   "metadata": {},
   "outputs": [
    {
     "data": {
      "text/plain": [
       "(126, 6)"
      ]
     },
     "execution_count": 235,
     "metadata": {},
     "output_type": "execute_result"
    }
   ],
   "source": [
    "x_train.shape"
   ]
  },
  {
   "cell_type": "code",
   "execution_count": 236,
   "id": "7f46725e",
   "metadata": {},
   "outputs": [
    {
     "data": {
      "text/plain": [
       "(32, 6)"
      ]
     },
     "execution_count": 236,
     "metadata": {},
     "output_type": "execute_result"
    }
   ],
   "source": [
    "x_test.shape"
   ]
  },
  {
   "cell_type": "code",
   "execution_count": 237,
   "id": "dddacd97",
   "metadata": {},
   "outputs": [
    {
     "data": {
      "text/plain": [
       "(126,)"
      ]
     },
     "execution_count": 237,
     "metadata": {},
     "output_type": "execute_result"
    }
   ],
   "source": [
    "y_train.shape"
   ]
  },
  {
   "cell_type": "code",
   "execution_count": 238,
   "id": "400debcc",
   "metadata": {},
   "outputs": [
    {
     "data": {
      "text/plain": [
       "(32,)"
      ]
     },
     "execution_count": 238,
     "metadata": {},
     "output_type": "execute_result"
    }
   ],
   "source": [
    "y_test.shape"
   ]
  },
  {
   "cell_type": "code",
   "execution_count": 239,
   "id": "bd90fa9f",
   "metadata": {},
   "outputs": [
    {
     "data": {
      "text/html": [
       "<style>#sk-container-id-1 {color: black;background-color: white;}#sk-container-id-1 pre{padding: 0;}#sk-container-id-1 div.sk-toggleable {background-color: white;}#sk-container-id-1 label.sk-toggleable__label {cursor: pointer;display: block;width: 100%;margin-bottom: 0;padding: 0.3em;box-sizing: border-box;text-align: center;}#sk-container-id-1 label.sk-toggleable__label-arrow:before {content: \"▸\";float: left;margin-right: 0.25em;color: #696969;}#sk-container-id-1 label.sk-toggleable__label-arrow:hover:before {color: black;}#sk-container-id-1 div.sk-estimator:hover label.sk-toggleable__label-arrow:before {color: black;}#sk-container-id-1 div.sk-toggleable__content {max-height: 0;max-width: 0;overflow: hidden;text-align: left;background-color: #f0f8ff;}#sk-container-id-1 div.sk-toggleable__content pre {margin: 0.2em;color: black;border-radius: 0.25em;background-color: #f0f8ff;}#sk-container-id-1 input.sk-toggleable__control:checked~div.sk-toggleable__content {max-height: 200px;max-width: 100%;overflow: auto;}#sk-container-id-1 input.sk-toggleable__control:checked~label.sk-toggleable__label-arrow:before {content: \"▾\";}#sk-container-id-1 div.sk-estimator input.sk-toggleable__control:checked~label.sk-toggleable__label {background-color: #d4ebff;}#sk-container-id-1 div.sk-label input.sk-toggleable__control:checked~label.sk-toggleable__label {background-color: #d4ebff;}#sk-container-id-1 input.sk-hidden--visually {border: 0;clip: rect(1px 1px 1px 1px);clip: rect(1px, 1px, 1px, 1px);height: 1px;margin: -1px;overflow: hidden;padding: 0;position: absolute;width: 1px;}#sk-container-id-1 div.sk-estimator {font-family: monospace;background-color: #f0f8ff;border: 1px dotted black;border-radius: 0.25em;box-sizing: border-box;margin-bottom: 0.5em;}#sk-container-id-1 div.sk-estimator:hover {background-color: #d4ebff;}#sk-container-id-1 div.sk-parallel-item::after {content: \"\";width: 100%;border-bottom: 1px solid gray;flex-grow: 1;}#sk-container-id-1 div.sk-label:hover label.sk-toggleable__label {background-color: #d4ebff;}#sk-container-id-1 div.sk-serial::before {content: \"\";position: absolute;border-left: 1px solid gray;box-sizing: border-box;top: 0;bottom: 0;left: 50%;z-index: 0;}#sk-container-id-1 div.sk-serial {display: flex;flex-direction: column;align-items: center;background-color: white;padding-right: 0.2em;padding-left: 0.2em;position: relative;}#sk-container-id-1 div.sk-item {position: relative;z-index: 1;}#sk-container-id-1 div.sk-parallel {display: flex;align-items: stretch;justify-content: center;background-color: white;position: relative;}#sk-container-id-1 div.sk-item::before, #sk-container-id-1 div.sk-parallel-item::before {content: \"\";position: absolute;border-left: 1px solid gray;box-sizing: border-box;top: 0;bottom: 0;left: 50%;z-index: -1;}#sk-container-id-1 div.sk-parallel-item {display: flex;flex-direction: column;z-index: 1;position: relative;background-color: white;}#sk-container-id-1 div.sk-parallel-item:first-child::after {align-self: flex-end;width: 50%;}#sk-container-id-1 div.sk-parallel-item:last-child::after {align-self: flex-start;width: 50%;}#sk-container-id-1 div.sk-parallel-item:only-child::after {width: 0;}#sk-container-id-1 div.sk-dashed-wrapped {border: 1px dashed gray;margin: 0 0.4em 0.5em 0.4em;box-sizing: border-box;padding-bottom: 0.4em;background-color: white;}#sk-container-id-1 div.sk-label label {font-family: monospace;font-weight: bold;display: inline-block;line-height: 1.2em;}#sk-container-id-1 div.sk-label-container {text-align: center;}#sk-container-id-1 div.sk-container {/* jupyter's `normalize.less` sets `[hidden] { display: none; }` but bootstrap.min.css set `[hidden] { display: none !important; }` so we also need the `!important` here to be able to override the default hidden behavior on the sphinx rendered scikit-learn.org. See: https://github.com/scikit-learn/scikit-learn/issues/21755 */display: inline-block !important;position: relative;}#sk-container-id-1 div.sk-text-repr-fallback {display: none;}</style><div id=\"sk-container-id-1\" class=\"sk-top-container\"><div class=\"sk-text-repr-fallback\"><pre>LinearRegression()</pre><b>In a Jupyter environment, please rerun this cell to show the HTML representation or trust the notebook. <br />On GitHub, the HTML representation is unable to render, please try loading this page with nbviewer.org.</b></div><div class=\"sk-container\" hidden><div class=\"sk-item\"><div class=\"sk-estimator sk-toggleable\"><input class=\"sk-toggleable__control sk-hidden--visually\" id=\"sk-estimator-id-1\" type=\"checkbox\" checked><label for=\"sk-estimator-id-1\" class=\"sk-toggleable__label sk-toggleable__label-arrow\">LinearRegression</label><div class=\"sk-toggleable__content\"><pre>LinearRegression()</pre></div></div></div></div></div>"
      ],
      "text/plain": [
       "LinearRegression()"
      ]
     },
     "execution_count": 239,
     "metadata": {},
     "output_type": "execute_result"
    }
   ],
   "source": [
    "lm = LinearRegression()\n",
    "lm.fit(x_train,y_train)"
   ]
  },
  {
   "cell_type": "code",
   "execution_count": 240,
   "id": "c8c2a3e2",
   "metadata": {},
   "outputs": [
    {
     "data": {
      "text/plain": [
       "0.8028086441458885"
      ]
     },
     "execution_count": 240,
     "metadata": {},
     "output_type": "execute_result"
    }
   ],
   "source": [
    "lm.score(x_train,y_train)"
   ]
  },
  {
   "cell_type": "code",
   "execution_count": 241,
   "id": "5a419471",
   "metadata": {},
   "outputs": [
    {
     "data": {
      "text/plain": [
       "array([0.31235806, 0.44375752, 0.24114223, 0.1518511 , 0.10398387,\n",
       "       0.03287348])"
      ]
     },
     "execution_count": 241,
     "metadata": {},
     "output_type": "execute_result"
    }
   ],
   "source": [
    "lm.coef_"
   ]
  },
  {
   "cell_type": "code",
   "execution_count": 243,
   "id": "14c98029",
   "metadata": {},
   "outputs": [
    {
     "data": {
      "text/plain": [
       "5.35366806542057"
      ]
     },
     "execution_count": 243,
     "metadata": {},
     "output_type": "execute_result"
    }
   ],
   "source": [
    "lm.intercept_"
   ]
  },
  {
   "cell_type": "code",
   "execution_count": 244,
   "id": "41fc0cc1",
   "metadata": {},
   "outputs": [
    {
     "data": {
      "text/plain": [
       "array([3.70336625, 5.07206185, 5.72540364, 3.93125597, 4.74126114,\n",
       "       5.19402432, 5.5207358 , 3.88175016, 3.85320183, 5.74435246,\n",
       "       4.63606418, 4.77688382, 5.55476343, 6.11265179, 4.25849845,\n",
       "       3.48868929, 5.54173193, 6.33717276, 4.77485764, 6.10040868,\n",
       "       4.4427791 , 5.88285452, 4.76007809, 4.97570524, 6.74789127,\n",
       "       4.370782  , 5.52102388, 4.49948557, 4.76755875, 5.87190518,\n",
       "       5.05866401, 6.71569131])"
      ]
     },
     "execution_count": 244,
     "metadata": {},
     "output_type": "execute_result"
    }
   ],
   "source": [
    "pred = lm.predict(x_test)\n",
    "pred"
   ]
  },
  {
   "cell_type": "code",
   "execution_count": 245,
   "id": "5a9475d8",
   "metadata": {},
   "outputs": [
    {
     "name": "stdout",
     "output_type": "stream",
     "text": [
      "0.32454900037965423\n"
     ]
    }
   ],
   "source": [
    "from sklearn.metrics import mean_squared_error,r2_score\n",
    "print(mean_squared_error(pred,y_test))"
   ]
  },
  {
   "cell_type": "markdown",
   "id": "43804b9e",
   "metadata": {},
   "source": [
    "# Conclusion:"
   ]
  },
  {
   "cell_type": "code",
   "execution_count": 246,
   "id": "b64db7b1",
   "metadata": {},
   "outputs": [
    {
     "data": {
      "text/html": [
       "<div>\n",
       "<style scoped>\n",
       "    .dataframe tbody tr th:only-of-type {\n",
       "        vertical-align: middle;\n",
       "    }\n",
       "\n",
       "    .dataframe tbody tr th {\n",
       "        vertical-align: top;\n",
       "    }\n",
       "\n",
       "    .dataframe thead th {\n",
       "        text-align: right;\n",
       "    }\n",
       "</style>\n",
       "<table border=\"1\" class=\"dataframe\">\n",
       "  <thead>\n",
       "    <tr style=\"text-align: right;\">\n",
       "      <th></th>\n",
       "      <th>original</th>\n",
       "      <th>predicted</th>\n",
       "    </tr>\n",
       "  </thead>\n",
       "  <tbody>\n",
       "    <tr>\n",
       "      <th>0</th>\n",
       "      <td>3.656</td>\n",
       "      <td>3.703366</td>\n",
       "    </tr>\n",
       "    <tr>\n",
       "      <th>1</th>\n",
       "      <td>5.123</td>\n",
       "      <td>5.072062</td>\n",
       "    </tr>\n",
       "    <tr>\n",
       "      <th>2</th>\n",
       "      <td>5.716</td>\n",
       "      <td>5.725404</td>\n",
       "    </tr>\n",
       "    <tr>\n",
       "      <th>3</th>\n",
       "      <td>5.194</td>\n",
       "      <td>3.931256</td>\n",
       "    </tr>\n",
       "    <tr>\n",
       "      <th>4</th>\n",
       "      <td>4.715</td>\n",
       "      <td>4.741261</td>\n",
       "    </tr>\n",
       "    <tr>\n",
       "      <th>5</th>\n",
       "      <td>5.360</td>\n",
       "      <td>5.194024</td>\n",
       "    </tr>\n",
       "    <tr>\n",
       "      <th>6</th>\n",
       "      <td>5.098</td>\n",
       "      <td>5.520736</td>\n",
       "    </tr>\n",
       "    <tr>\n",
       "      <th>7</th>\n",
       "      <td>4.571</td>\n",
       "      <td>3.881750</td>\n",
       "    </tr>\n",
       "    <tr>\n",
       "      <th>8</th>\n",
       "      <td>3.681</td>\n",
       "      <td>3.853202</td>\n",
       "    </tr>\n",
       "    <tr>\n",
       "      <th>9</th>\n",
       "      <td>5.754</td>\n",
       "      <td>5.744352</td>\n",
       "    </tr>\n",
       "    <tr>\n",
       "      <th>10</th>\n",
       "      <td>4.686</td>\n",
       "      <td>4.636064</td>\n",
       "    </tr>\n",
       "    <tr>\n",
       "      <th>11</th>\n",
       "      <td>4.949</td>\n",
       "      <td>4.776884</td>\n",
       "    </tr>\n",
       "    <tr>\n",
       "      <th>12</th>\n",
       "      <td>7.187</td>\n",
       "      <td>5.554763</td>\n",
       "    </tr>\n",
       "    <tr>\n",
       "      <th>13</th>\n",
       "      <td>6.786</td>\n",
       "      <td>6.112652</td>\n",
       "    </tr>\n",
       "    <tr>\n",
       "      <th>14</th>\n",
       "      <td>4.369</td>\n",
       "      <td>4.258498</td>\n",
       "    </tr>\n",
       "    <tr>\n",
       "      <th>15</th>\n",
       "      <td>2.839</td>\n",
       "      <td>3.488689</td>\n",
       "    </tr>\n",
       "    <tr>\n",
       "      <th>16</th>\n",
       "      <td>5.477</td>\n",
       "      <td>5.541732</td>\n",
       "    </tr>\n",
       "    <tr>\n",
       "      <th>17</th>\n",
       "      <td>7.226</td>\n",
       "      <td>6.337173</td>\n",
       "    </tr>\n",
       "    <tr>\n",
       "      <th>18</th>\n",
       "      <td>5.889</td>\n",
       "      <td>4.774858</td>\n",
       "    </tr>\n",
       "    <tr>\n",
       "      <th>19</th>\n",
       "      <td>5.948</td>\n",
       "      <td>6.100409</td>\n",
       "    </tr>\n",
       "    <tr>\n",
       "      <th>20</th>\n",
       "      <td>3.781</td>\n",
       "      <td>4.442779</td>\n",
       "    </tr>\n",
       "    <tr>\n",
       "      <th>21</th>\n",
       "      <td>6.168</td>\n",
       "      <td>5.882855</td>\n",
       "    </tr>\n",
       "    <tr>\n",
       "      <th>22</th>\n",
       "      <td>5.057</td>\n",
       "      <td>4.760078</td>\n",
       "    </tr>\n",
       "    <tr>\n",
       "      <th>23</th>\n",
       "      <td>4.959</td>\n",
       "      <td>4.975705</td>\n",
       "    </tr>\n",
       "    <tr>\n",
       "      <th>24</th>\n",
       "      <td>6.575</td>\n",
       "      <td>6.747891</td>\n",
       "    </tr>\n",
       "    <tr>\n",
       "      <th>25</th>\n",
       "      <td>4.252</td>\n",
       "      <td>4.370782</td>\n",
       "    </tr>\n",
       "    <tr>\n",
       "      <th>26</th>\n",
       "      <td>5.253</td>\n",
       "      <td>5.521024</td>\n",
       "    </tr>\n",
       "    <tr>\n",
       "      <th>27</th>\n",
       "      <td>4.194</td>\n",
       "      <td>4.499486</td>\n",
       "    </tr>\n",
       "    <tr>\n",
       "      <th>28</th>\n",
       "      <td>3.931</td>\n",
       "      <td>4.767559</td>\n",
       "    </tr>\n",
       "    <tr>\n",
       "      <th>29</th>\n",
       "      <td>6.477</td>\n",
       "      <td>5.871905</td>\n",
       "    </tr>\n",
       "    <tr>\n",
       "      <th>30</th>\n",
       "      <td>5.192</td>\n",
       "      <td>5.058664</td>\n",
       "    </tr>\n",
       "    <tr>\n",
       "      <th>31</th>\n",
       "      <td>5.987</td>\n",
       "      <td>6.715691</td>\n",
       "    </tr>\n",
       "  </tbody>\n",
       "</table>\n",
       "</div>"
      ],
      "text/plain": [
       "    original  predicted\n",
       "0      3.656   3.703366\n",
       "1      5.123   5.072062\n",
       "2      5.716   5.725404\n",
       "3      5.194   3.931256\n",
       "4      4.715   4.741261\n",
       "5      5.360   5.194024\n",
       "6      5.098   5.520736\n",
       "7      4.571   3.881750\n",
       "8      3.681   3.853202\n",
       "9      5.754   5.744352\n",
       "10     4.686   4.636064\n",
       "11     4.949   4.776884\n",
       "12     7.187   5.554763\n",
       "13     6.786   6.112652\n",
       "14     4.369   4.258498\n",
       "15     2.839   3.488689\n",
       "16     5.477   5.541732\n",
       "17     7.226   6.337173\n",
       "18     5.889   4.774858\n",
       "19     5.948   6.100409\n",
       "20     3.781   4.442779\n",
       "21     6.168   5.882855\n",
       "22     5.057   4.760078\n",
       "23     4.959   4.975705\n",
       "24     6.575   6.747891\n",
       "25     4.252   4.370782\n",
       "26     5.253   5.521024\n",
       "27     4.194   4.499486\n",
       "28     3.931   4.767559\n",
       "29     6.477   5.871905\n",
       "30     5.192   5.058664\n",
       "31     5.987   6.715691"
      ]
     },
     "execution_count": 246,
     "metadata": {},
     "output_type": "execute_result"
    }
   ],
   "source": [
    "a = np.array(y_test)\n",
    "predicted = np.array(lm.predict(x_test))\n",
    "df_predicted = pd.DataFrame({'original':a,'predicted':predicted})\n",
    "df_predicted"
   ]
  },
  {
   "cell_type": "markdown",
   "id": "6a6ed0d4",
   "metadata": {},
   "source": [
    "Here the predicted score and the original score is almost similar, as accuracy score is 80%"
   ]
  },
  {
   "cell_type": "code",
   "execution_count": null,
   "id": "6a72c1dd",
   "metadata": {},
   "outputs": [],
   "source": []
  }
 ],
 "metadata": {
  "kernelspec": {
   "display_name": "Python 3 (ipykernel)",
   "language": "python",
   "name": "python3"
  },
  "language_info": {
   "codemirror_mode": {
    "name": "ipython",
    "version": 3
   },
   "file_extension": ".py",
   "mimetype": "text/x-python",
   "name": "python",
   "nbconvert_exporter": "python",
   "pygments_lexer": "ipython3",
   "version": "3.9.7"
  }
 },
 "nbformat": 4,
 "nbformat_minor": 5
}
